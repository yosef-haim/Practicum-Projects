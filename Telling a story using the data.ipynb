{
 "cells": [
  {
   "attachments": {},
   "cell_type": "markdown",
   "metadata": {},
   "source": [
    "<div class=\"alert alert-block alert-success\">\n",
    "<b>Reviewer's comment 4</b> <a class=\"tocSkip\"></a>\n",
    "\n",
    "I checked your presentation, good work! All right now. Good luck in the next project :)\n",
    "</div>"
   ]
  },
  {
   "cell_type": "markdown",
   "metadata": {},
   "source": [
    "<div class=\"alert alert-block alert-success\">\n",
    "<b>Reviewer's comment 3</b> <a class=\"tocSkip\"></a>\n",
    "\n",
    "You forget to make your presentation public, so I can't get an access :(\n",
    "</div>"
   ]
  },
  {
   "cell_type": "markdown",
   "metadata": {},
   "source": [
    "<div class=\"alert alert-block alert-success\">\n",
    "<b>Reviewer's comment 2</b> <a class=\"tocSkip\"></a>\n",
    "\n",
    "Hello again! You made very good fixes, but I still can't get an access to your presentation. Please, upload it on your google drive, make it public and give me a link :)\n",
    "</div>"
   ]
  },
  {
   "cell_type": "markdown",
   "metadata": {},
   "source": [
    "<b>Reviewer's comment</b>\n",
    "\n",
    "Hello, Yosef! My name is Andrey Isupov. I checked your project. You did a very good job on the project. But there are few things that need fix. I think it is not so difficult for you and you will quickly cope with it. Good luck :)\n",
    "\n",
    "Below you will find my comments - **please do not move, modify or delete them**.\n",
    "\n",
    "You can find my comments in green, yellow or red boxes like this:\n",
    "\n",
    "<div class=\"alert alert-block alert-success\">\n",
    "<b>Reviewer's comment</b> <a class=\"tocSkip\"></a>\n",
    "\n",
    "Success. Everything is done succesfully.\n",
    "</div>\n",
    "\n",
    "<div class=\"alert alert-block alert-warning\">\n",
    "<b>Reviewer's comment</b> <a class=\"tocSkip\"></a>\n",
    "\n",
    "Remarks. Some recommendations.\n",
    "</div>\n",
    "\n",
    "<div class=\"alert alert-block alert-danger\">\n",
    "\n",
    "<b>Reviewer's comment</b> <a class=\"tocSkip\"></a>\n",
    "\n",
    "Needs fixing. The block requires some corrections. Work can't be accepted with the red comments.\n",
    "</div>\n",
    "\n",
    "You can answer me by using this:\n",
    "\n",
    "<div class=\"alert alert-block alert-info\">\n",
    "<b>Student answer.</b> <a class=\"tocSkip\"></a>\n",
    "\n",
    "Sample text\n",
    "</div>"
   ]
  },
  {
   "cell_type": "markdown",
   "metadata": {
    "slideshow": {
     "slide_type": "slide"
    }
   },
   "source": [
    "# Project description\n",
    "I’ve decided to open a small robot-run cafe in Los Angeles. The project is promising but expensive, so you and my partners decide to try to attract investors. They’re interested in the current market conditions—will I be able to maintain my success when the novelty of robot waiters wears off?\n",
    "I'm an analytics guru, so my partners have asked you to prepare some market research. i have open-source data on restaurants in LA."
   ]
  },
  {
   "cell_type": "markdown",
   "metadata": {},
   "source": [
    "<div class=\"alert alert-block alert-success\">\n",
    "<b>Reviewer's comment</b> <a class=\"tocSkip\"></a>\n",
    "\n",
    "Thanks for the description\n",
    "</div>"
   ]
  },
  {
   "cell_type": "markdown",
   "metadata": {
    "slideshow": {
     "slide_type": "slide"
    }
   },
   "source": [
    "# Loading libreries the data"
   ]
  },
  {
   "cell_type": "code",
   "execution_count": 1,
   "metadata": {
    "slideshow": {
     "slide_type": "slide"
    }
   },
   "outputs": [],
   "source": [
    "import pandas as pd\n",
    "import matplotlib.pyplot as plt\n",
    "import numpy as np\n",
    "import seaborn as sns\n",
    "from numpy import median"
   ]
  },
  {
   "cell_type": "code",
   "execution_count": 2,
   "metadata": {},
   "outputs": [],
   "source": [
    "import warnings\n",
    "\n",
    "warnings.filterwarnings(\"ignore\")"
   ]
  },
  {
   "cell_type": "markdown",
   "metadata": {
    "slideshow": {
     "slide_type": "slide"
    }
   },
   "source": [
    "# Uploading the data"
   ]
  },
  {
   "cell_type": "code",
   "execution_count": 3,
   "metadata": {
    "slideshow": {
     "slide_type": "slide"
    }
   },
   "outputs": [],
   "source": [
    "resturantData = pd.read_csv('/datasets/rest_data_us.csv')"
   ]
  },
  {
   "cell_type": "markdown",
   "metadata": {
    "slideshow": {
     "slide_type": "slide"
    }
   },
   "source": [
    "# Preparing the data for analyze"
   ]
  },
  {
   "cell_type": "code",
   "execution_count": 4,
   "metadata": {
    "slideshow": {
     "slide_type": "slide"
    }
   },
   "outputs": [
    {
     "name": "stdout",
     "output_type": "stream",
     "text": [
      "<class 'pandas.core.frame.DataFrame'>\n",
      "RangeIndex: 9651 entries, 0 to 9650\n",
      "Data columns (total 6 columns):\n",
      "id             9651 non-null int64\n",
      "object_name    9651 non-null object\n",
      "address        9651 non-null object\n",
      "chain          9648 non-null object\n",
      "object_type    9651 non-null object\n",
      "number         9651 non-null int64\n",
      "dtypes: int64(2), object(4)\n",
      "memory usage: 2.4 MB\n"
     ]
    }
   ],
   "source": [
    "resturantData.info(memory_usage='deep')"
   ]
  },
  {
   "cell_type": "code",
   "execution_count": 5,
   "metadata": {
    "slideshow": {
     "slide_type": "slide"
    }
   },
   "outputs": [
    {
     "data": {
      "text/html": [
       "<div>\n",
       "<style scoped>\n",
       "    .dataframe tbody tr th:only-of-type {\n",
       "        vertical-align: middle;\n",
       "    }\n",
       "\n",
       "    .dataframe tbody tr th {\n",
       "        vertical-align: top;\n",
       "    }\n",
       "\n",
       "    .dataframe thead th {\n",
       "        text-align: right;\n",
       "    }\n",
       "</style>\n",
       "<table border=\"1\" class=\"dataframe\">\n",
       "  <thead>\n",
       "    <tr style=\"text-align: right;\">\n",
       "      <th></th>\n",
       "      <th>id</th>\n",
       "      <th>object_name</th>\n",
       "      <th>address</th>\n",
       "      <th>chain</th>\n",
       "      <th>object_type</th>\n",
       "      <th>number</th>\n",
       "    </tr>\n",
       "  </thead>\n",
       "  <tbody>\n",
       "    <tr>\n",
       "      <td>0</td>\n",
       "      <td>11786</td>\n",
       "      <td>HABITAT COFFEE SHOP</td>\n",
       "      <td>3708 N EAGLE ROCK BLVD</td>\n",
       "      <td>False</td>\n",
       "      <td>Cafe</td>\n",
       "      <td>26</td>\n",
       "    </tr>\n",
       "    <tr>\n",
       "      <td>1</td>\n",
       "      <td>11787</td>\n",
       "      <td>REILLY'S</td>\n",
       "      <td>100 WORLD WAY # 120</td>\n",
       "      <td>False</td>\n",
       "      <td>Restaurant</td>\n",
       "      <td>9</td>\n",
       "    </tr>\n",
       "    <tr>\n",
       "      <td>2</td>\n",
       "      <td>11788</td>\n",
       "      <td>STREET CHURROS</td>\n",
       "      <td>6801 HOLLYWOOD BLVD # 253</td>\n",
       "      <td>False</td>\n",
       "      <td>Fast Food</td>\n",
       "      <td>20</td>\n",
       "    </tr>\n",
       "    <tr>\n",
       "      <td>3</td>\n",
       "      <td>11789</td>\n",
       "      <td>TRINITI ECHO PARK</td>\n",
       "      <td>1814 W SUNSET BLVD</td>\n",
       "      <td>False</td>\n",
       "      <td>Restaurant</td>\n",
       "      <td>22</td>\n",
       "    </tr>\n",
       "    <tr>\n",
       "      <td>4</td>\n",
       "      <td>11790</td>\n",
       "      <td>POLLEN</td>\n",
       "      <td>2100 ECHO PARK AVE</td>\n",
       "      <td>False</td>\n",
       "      <td>Restaurant</td>\n",
       "      <td>20</td>\n",
       "    </tr>\n",
       "  </tbody>\n",
       "</table>\n",
       "</div>"
      ],
      "text/plain": [
       "      id          object_name                    address  chain object_type  \\\n",
       "0  11786  HABITAT COFFEE SHOP     3708 N EAGLE ROCK BLVD  False        Cafe   \n",
       "1  11787             REILLY'S        100 WORLD WAY # 120  False  Restaurant   \n",
       "2  11788       STREET CHURROS  6801 HOLLYWOOD BLVD # 253  False   Fast Food   \n",
       "3  11789    TRINITI ECHO PARK         1814 W SUNSET BLVD  False  Restaurant   \n",
       "4  11790               POLLEN         2100 ECHO PARK AVE  False  Restaurant   \n",
       "\n",
       "   number  \n",
       "0      26  \n",
       "1       9  \n",
       "2      20  \n",
       "3      22  \n",
       "4      20  "
      ]
     },
     "execution_count": 5,
     "metadata": {},
     "output_type": "execute_result"
    }
   ],
   "source": [
    "resturantData.head()"
   ]
  },
  {
   "cell_type": "code",
   "execution_count": 6,
   "metadata": {
    "slideshow": {
     "slide_type": "slide"
    }
   },
   "outputs": [
    {
     "data": {
      "text/html": [
       "<div>\n",
       "<style scoped>\n",
       "    .dataframe tbody tr th:only-of-type {\n",
       "        vertical-align: middle;\n",
       "    }\n",
       "\n",
       "    .dataframe tbody tr th {\n",
       "        vertical-align: top;\n",
       "    }\n",
       "\n",
       "    .dataframe thead th {\n",
       "        text-align: right;\n",
       "    }\n",
       "</style>\n",
       "<table border=\"1\" class=\"dataframe\">\n",
       "  <thead>\n",
       "    <tr style=\"text-align: right;\">\n",
       "      <th></th>\n",
       "      <th>id</th>\n",
       "      <th>number</th>\n",
       "    </tr>\n",
       "  </thead>\n",
       "  <tbody>\n",
       "    <tr>\n",
       "      <td>count</td>\n",
       "      <td>9651.000000</td>\n",
       "      <td>9651.000000</td>\n",
       "    </tr>\n",
       "    <tr>\n",
       "      <td>mean</td>\n",
       "      <td>16611.000000</td>\n",
       "      <td>43.695161</td>\n",
       "    </tr>\n",
       "    <tr>\n",
       "      <td>std</td>\n",
       "      <td>2786.148058</td>\n",
       "      <td>47.622874</td>\n",
       "    </tr>\n",
       "    <tr>\n",
       "      <td>min</td>\n",
       "      <td>11786.000000</td>\n",
       "      <td>1.000000</td>\n",
       "    </tr>\n",
       "    <tr>\n",
       "      <td>25%</td>\n",
       "      <td>14198.500000</td>\n",
       "      <td>14.000000</td>\n",
       "    </tr>\n",
       "    <tr>\n",
       "      <td>50%</td>\n",
       "      <td>16611.000000</td>\n",
       "      <td>27.000000</td>\n",
       "    </tr>\n",
       "    <tr>\n",
       "      <td>75%</td>\n",
       "      <td>19023.500000</td>\n",
       "      <td>46.000000</td>\n",
       "    </tr>\n",
       "    <tr>\n",
       "      <td>max</td>\n",
       "      <td>21436.000000</td>\n",
       "      <td>229.000000</td>\n",
       "    </tr>\n",
       "  </tbody>\n",
       "</table>\n",
       "</div>"
      ],
      "text/plain": [
       "                 id       number\n",
       "count   9651.000000  9651.000000\n",
       "mean   16611.000000    43.695161\n",
       "std     2786.148058    47.622874\n",
       "min    11786.000000     1.000000\n",
       "25%    14198.500000    14.000000\n",
       "50%    16611.000000    27.000000\n",
       "75%    19023.500000    46.000000\n",
       "max    21436.000000   229.000000"
      ]
     },
     "execution_count": 6,
     "metadata": {},
     "output_type": "execute_result"
    }
   ],
   "source": [
    "resturantData.describe()"
   ]
  },
  {
   "cell_type": "markdown",
   "metadata": {
    "slideshow": {
     "slide_type": "slide"
    }
   },
   "source": [
    "Great now we have a nice view on the data and we can asume that there's some outliers.\n",
    "(the mean value is ~44 will the max value is 229 the wolud imply)."
   ]
  },
  {
   "cell_type": "markdown",
   "metadata": {},
   "source": [
    "<div class=\"alert alert-block alert-success\">\n",
    "<b>Reviewer's comment</b> <a class=\"tocSkip\"></a>\n",
    "\n",
    "Good data review\n",
    "</div>"
   ]
  },
  {
   "cell_type": "markdown",
   "metadata": {
    "slideshow": {
     "slide_type": "slide"
    }
   },
   "source": [
    "# Optimizing the data"
   ]
  },
  {
   "cell_type": "code",
   "execution_count": 7,
   "metadata": {
    "slideshow": {
     "slide_type": "slide"
    }
   },
   "outputs": [
    {
     "data": {
      "text/plain": [
       "6"
      ]
     },
     "execution_count": 7,
     "metadata": {},
     "output_type": "execute_result"
    }
   ],
   "source": [
    "resturantData['object_type'].nunique()"
   ]
  },
  {
   "cell_type": "code",
   "execution_count": 8,
   "metadata": {
    "slideshow": {
     "slide_type": "slide"
    }
   },
   "outputs": [],
   "source": [
    "resturantData['object_type'] = resturantData['object_type'].astype('category')"
   ]
  },
  {
   "cell_type": "code",
   "execution_count": 9,
   "metadata": {
    "slideshow": {
     "slide_type": "slide"
    }
   },
   "outputs": [
    {
     "name": "stdout",
     "output_type": "stream",
     "text": [
      "<class 'pandas.core.frame.DataFrame'>\n",
      "RangeIndex: 9651 entries, 0 to 9650\n",
      "Data columns (total 6 columns):\n",
      "id             9651 non-null int64\n",
      "object_name    9651 non-null object\n",
      "address        9651 non-null object\n",
      "chain          9648 non-null object\n",
      "object_type    9651 non-null category\n",
      "number         9651 non-null int64\n",
      "dtypes: category(1), int64(2), object(3)\n",
      "memory usage: 1.8 MB\n"
     ]
    }
   ],
   "source": [
    "resturantData.info(memory_usage='deep')"
   ]
  },
  {
   "cell_type": "markdown",
   "metadata": {
    "slideshow": {
     "slide_type": "subslide"
    }
   },
   "source": [
    "Now this is nice, the file is lighter by 25%."
   ]
  },
  {
   "cell_type": "markdown",
   "metadata": {
    "slideshow": {
     "slide_type": "slide"
    }
   },
   "source": [
    "# Checking for missing values"
   ]
  },
  {
   "cell_type": "code",
   "execution_count": 10,
   "metadata": {
    "slideshow": {
     "slide_type": "slide"
    }
   },
   "outputs": [
    {
     "data": {
      "text/plain": [
       "id             0\n",
       "object_name    0\n",
       "address        0\n",
       "chain          3\n",
       "object_type    0\n",
       "number         0\n",
       "dtype: int64"
      ]
     },
     "execution_count": 10,
     "metadata": {},
     "output_type": "execute_result"
    }
   ],
   "source": [
    "resturantData.isna().sum()"
   ]
  },
  {
   "cell_type": "code",
   "execution_count": 11,
   "metadata": {
    "slideshow": {
     "slide_type": "slide"
    }
   },
   "outputs": [
    {
     "data": {
      "text/html": [
       "<div>\n",
       "<style scoped>\n",
       "    .dataframe tbody tr th:only-of-type {\n",
       "        vertical-align: middle;\n",
       "    }\n",
       "\n",
       "    .dataframe tbody tr th {\n",
       "        vertical-align: top;\n",
       "    }\n",
       "\n",
       "    .dataframe thead th {\n",
       "        text-align: right;\n",
       "    }\n",
       "</style>\n",
       "<table border=\"1\" class=\"dataframe\">\n",
       "  <thead>\n",
       "    <tr style=\"text-align: right;\">\n",
       "      <th></th>\n",
       "      <th>id</th>\n",
       "      <th>object_name</th>\n",
       "      <th>address</th>\n",
       "      <th>chain</th>\n",
       "      <th>object_type</th>\n",
       "      <th>number</th>\n",
       "    </tr>\n",
       "  </thead>\n",
       "  <tbody>\n",
       "    <tr>\n",
       "      <td>7408</td>\n",
       "      <td>19194</td>\n",
       "      <td>TAQUERIA LOS 3 CARNALES</td>\n",
       "      <td>5000 E WHITTIER BLVD</td>\n",
       "      <td>NaN</td>\n",
       "      <td>Restaurant</td>\n",
       "      <td>14</td>\n",
       "    </tr>\n",
       "    <tr>\n",
       "      <td>7523</td>\n",
       "      <td>19309</td>\n",
       "      <td>JAMMIN JIMMY'S PIZZA</td>\n",
       "      <td>1641 FIRESTONE BLVD</td>\n",
       "      <td>NaN</td>\n",
       "      <td>Pizza</td>\n",
       "      <td>1</td>\n",
       "    </tr>\n",
       "    <tr>\n",
       "      <td>8648</td>\n",
       "      <td>20434</td>\n",
       "      <td>THE LEXINGTON THEATER</td>\n",
       "      <td>129 E 3RD ST</td>\n",
       "      <td>NaN</td>\n",
       "      <td>Restaurant</td>\n",
       "      <td>35</td>\n",
       "    </tr>\n",
       "  </tbody>\n",
       "</table>\n",
       "</div>"
      ],
      "text/plain": [
       "         id              object_name               address chain object_type  \\\n",
       "7408  19194  TAQUERIA LOS 3 CARNALES  5000 E WHITTIER BLVD   NaN  Restaurant   \n",
       "7523  19309     JAMMIN JIMMY'S PIZZA   1641 FIRESTONE BLVD   NaN       Pizza   \n",
       "8648  20434    THE LEXINGTON THEATER          129 E 3RD ST   NaN  Restaurant   \n",
       "\n",
       "      number  \n",
       "7408      14  \n",
       "7523       1  \n",
       "8648      35  "
      ]
     },
     "execution_count": 11,
     "metadata": {},
     "output_type": "execute_result"
    }
   ],
   "source": [
    "resturantData[resturantData['chain'].isna()]"
   ]
  },
  {
   "cell_type": "code",
   "execution_count": 12,
   "metadata": {
    "slideshow": {
     "slide_type": "skip"
    }
   },
   "outputs": [
    {
     "name": "stdout",
     "output_type": "stream",
     "text": [
      "The chunk of the missing data is from the whole data is 0.031085%\n"
     ]
    }
   ],
   "source": [
    "print('The chunk of the missing data is from the whole data is {:%}'.format(len(resturantData[resturantData['chain'].isna()])/ len(resturantData['chain'])))"
   ]
  },
  {
   "cell_type": "markdown",
   "metadata": {
    "slideshow": {
     "slide_type": "slide"
    }
   },
   "source": [
    "We can ommit this data it is Negligible (mayebe data misstyped or somthing)."
   ]
  },
  {
   "cell_type": "code",
   "execution_count": 13,
   "metadata": {
    "slideshow": {
     "slide_type": "slide"
    }
   },
   "outputs": [],
   "source": [
    "resturantData.dropna(inplace=True)"
   ]
  },
  {
   "cell_type": "markdown",
   "metadata": {},
   "source": [
    "<div class=\"alert alert-block alert-success\">\n",
    "<b>Reviewer's comment</b> <a class=\"tocSkip\"></a>\n",
    "\n",
    "Right decision\n",
    "</div>"
   ]
  },
  {
   "cell_type": "code",
   "execution_count": 14,
   "metadata": {
    "slideshow": {
     "slide_type": "slide"
    }
   },
   "outputs": [
    {
     "data": {
      "text/plain": [
       "id             0\n",
       "object_name    0\n",
       "address        0\n",
       "chain          0\n",
       "object_type    0\n",
       "number         0\n",
       "dtype: int64"
      ]
     },
     "execution_count": 14,
     "metadata": {},
     "output_type": "execute_result"
    }
   ],
   "source": [
    "resturantData.isna().sum()"
   ]
  },
  {
   "cell_type": "markdown",
   "metadata": {},
   "source": [
    "There is no missing values now."
   ]
  },
  {
   "cell_type": "markdown",
   "metadata": {},
   "source": [
    "# Checking for duplicates"
   ]
  },
  {
   "cell_type": "code",
   "execution_count": 15,
   "metadata": {},
   "outputs": [
    {
     "data": {
      "text/plain": [
       "0"
      ]
     },
     "execution_count": 15,
     "metadata": {},
     "output_type": "execute_result"
    }
   ],
   "source": [
    "resturantData.duplicated().sum()"
   ]
  },
  {
   "cell_type": "markdown",
   "metadata": {},
   "source": [
    "There is no duplicates."
   ]
  },
  {
   "cell_type": "markdown",
   "metadata": {},
   "source": [
    "The data is clean and read for analysis."
   ]
  },
  {
   "cell_type": "markdown",
   "metadata": {},
   "source": [
    "<div class=\"alert alert-block alert-success\">\n",
    "<b>Reviewer's comment</b> <a class=\"tocSkip\"></a>\n",
    "\n",
    "Nice data preparation. Now let's start our data analysis :)\n",
    "</div>"
   ]
  },
  {
   "cell_type": "markdown",
   "metadata": {},
   "source": [
    "# Analyze the data"
   ]
  },
  {
   "cell_type": "code",
   "execution_count": 16,
   "metadata": {},
   "outputs": [
    {
     "data": {
      "text/html": [
       "<div>\n",
       "<style scoped>\n",
       "    .dataframe tbody tr th:only-of-type {\n",
       "        vertical-align: middle;\n",
       "    }\n",
       "\n",
       "    .dataframe tbody tr th {\n",
       "        vertical-align: top;\n",
       "    }\n",
       "\n",
       "    .dataframe thead th {\n",
       "        text-align: right;\n",
       "    }\n",
       "</style>\n",
       "<table border=\"1\" class=\"dataframe\">\n",
       "  <thead>\n",
       "    <tr style=\"text-align: right;\">\n",
       "      <th></th>\n",
       "      <th>id</th>\n",
       "      <th>object_name</th>\n",
       "      <th>address</th>\n",
       "      <th>chain</th>\n",
       "      <th>object_type</th>\n",
       "      <th>number</th>\n",
       "    </tr>\n",
       "  </thead>\n",
       "  <tbody>\n",
       "    <tr>\n",
       "      <td>0</td>\n",
       "      <td>11786</td>\n",
       "      <td>HABITAT COFFEE SHOP</td>\n",
       "      <td>3708 N EAGLE ROCK BLVD</td>\n",
       "      <td>False</td>\n",
       "      <td>Cafe</td>\n",
       "      <td>26</td>\n",
       "    </tr>\n",
       "    <tr>\n",
       "      <td>1</td>\n",
       "      <td>11787</td>\n",
       "      <td>REILLY'S</td>\n",
       "      <td>100 WORLD WAY # 120</td>\n",
       "      <td>False</td>\n",
       "      <td>Restaurant</td>\n",
       "      <td>9</td>\n",
       "    </tr>\n",
       "    <tr>\n",
       "      <td>2</td>\n",
       "      <td>11788</td>\n",
       "      <td>STREET CHURROS</td>\n",
       "      <td>6801 HOLLYWOOD BLVD # 253</td>\n",
       "      <td>False</td>\n",
       "      <td>Fast Food</td>\n",
       "      <td>20</td>\n",
       "    </tr>\n",
       "    <tr>\n",
       "      <td>3</td>\n",
       "      <td>11789</td>\n",
       "      <td>TRINITI ECHO PARK</td>\n",
       "      <td>1814 W SUNSET BLVD</td>\n",
       "      <td>False</td>\n",
       "      <td>Restaurant</td>\n",
       "      <td>22</td>\n",
       "    </tr>\n",
       "    <tr>\n",
       "      <td>4</td>\n",
       "      <td>11790</td>\n",
       "      <td>POLLEN</td>\n",
       "      <td>2100 ECHO PARK AVE</td>\n",
       "      <td>False</td>\n",
       "      <td>Restaurant</td>\n",
       "      <td>20</td>\n",
       "    </tr>\n",
       "  </tbody>\n",
       "</table>\n",
       "</div>"
      ],
      "text/plain": [
       "      id          object_name                    address  chain object_type  \\\n",
       "0  11786  HABITAT COFFEE SHOP     3708 N EAGLE ROCK BLVD  False        Cafe   \n",
       "1  11787             REILLY'S        100 WORLD WAY # 120  False  Restaurant   \n",
       "2  11788       STREET CHURROS  6801 HOLLYWOOD BLVD # 253  False   Fast Food   \n",
       "3  11789    TRINITI ECHO PARK         1814 W SUNSET BLVD  False  Restaurant   \n",
       "4  11790               POLLEN         2100 ECHO PARK AVE  False  Restaurant   \n",
       "\n",
       "   number  \n",
       "0      26  \n",
       "1       9  \n",
       "2      20  \n",
       "3      22  \n",
       "4      20  "
      ]
     },
     "execution_count": 16,
     "metadata": {},
     "output_type": "execute_result"
    }
   ],
   "source": [
    "resturantData.head()"
   ]
  },
  {
   "cell_type": "code",
   "execution_count": 17,
   "metadata": {},
   "outputs": [
    {
     "data": {
      "text/plain": [
       "[Cafe, Restaurant, Fast Food, Bakery, Bar, Pizza]\n",
       "Categories (6, object): [Cafe, Restaurant, Fast Food, Bakery, Bar, Pizza]"
      ]
     },
     "execution_count": 17,
     "metadata": {},
     "output_type": "execute_result"
    }
   ],
   "source": [
    "resturantData['object_type'].unique()"
   ]
  },
  {
   "cell_type": "markdown",
   "metadata": {},
   "source": [
    "In the next stage I'll find out which resturant is established chain and split the resturant into two types."
   ]
  },
  {
   "cell_type": "code",
   "execution_count": 18,
   "metadata": {},
   "outputs": [],
   "source": [
    "not_established = resturantData[resturantData['chain'] == False]\n",
    "established = resturantData[resturantData['chain'] == True]"
   ]
  },
  {
   "cell_type": "code",
   "execution_count": 19,
   "metadata": {},
   "outputs": [
    {
     "data": {
      "text/plain": [
       "0.07236126224156691"
      ]
     },
     "execution_count": 19,
     "metadata": {},
     "output_type": "execute_result"
    }
   ],
   "source": [
    "Cafe = established[established['object_type'] == 'Cafe']\n",
    "len(established[established['object_type'] == 'Cafe']) / len(established['object_type'])"
   ]
  },
  {
   "cell_type": "markdown",
   "metadata": {},
   "source": [
    "7.23% of the established chain are Cafe."
   ]
  },
  {
   "cell_type": "code",
   "execution_count": 20,
   "metadata": {},
   "outputs": [
    {
     "data": {
      "text/plain": [
       "0.6235038084874864"
      ]
     },
     "execution_count": 20,
     "metadata": {},
     "output_type": "execute_result"
    }
   ],
   "source": [
    "Restaurant = established[established['object_type'] == 'Restaurant']\n",
    "len(established[established['object_type'] == 'Restaurant']) / len(established['object_type'])"
   ]
  },
  {
   "cell_type": "markdown",
   "metadata": {},
   "source": [
    "62.35% are resturants."
   ]
  },
  {
   "cell_type": "code",
   "execution_count": 21,
   "metadata": {},
   "outputs": [
    {
     "data": {
      "text/plain": [
       "0.1645810663764962"
      ]
     },
     "execution_count": 21,
     "metadata": {},
     "output_type": "execute_result"
    }
   ],
   "source": [
    "Fast_Food = established[established['object_type'] == 'Fast Food']\n",
    "len(established[established['object_type'] == 'Fast Food']) / len(established['object_type'])"
   ]
  },
  {
   "cell_type": "markdown",
   "metadata": {},
   "source": [
    "16.4% are fast food chains."
   ]
  },
  {
   "cell_type": "code",
   "execution_count": 22,
   "metadata": {},
   "outputs": [
    {
     "data": {
      "text/plain": [
       "0.07698585418933623"
      ]
     },
     "execution_count": 22,
     "metadata": {},
     "output_type": "execute_result"
    }
   ],
   "source": [
    "Bakery = established[established['object_type'] == 'Bakery']\n",
    "len(established[established['object_type'] == 'Bakery']) / len(established['object_type'])"
   ]
  },
  {
   "cell_type": "markdown",
   "metadata": {},
   "source": [
    "7.69% are bakeries."
   ]
  },
  {
   "cell_type": "code",
   "execution_count": 23,
   "metadata": {},
   "outputs": [
    {
     "data": {
      "text/plain": [
       "0.020946681175190423"
      ]
     },
     "execution_count": 23,
     "metadata": {},
     "output_type": "execute_result"
    }
   ],
   "source": [
    "Bar = established[established['object_type'] == 'Bar']\n",
    "len(established[established['object_type'] == 'Bar']) / len(established['object_type'])"
   ]
  },
  {
   "cell_type": "markdown",
   "metadata": {},
   "source": [
    "2.1% are Bars."
   ]
  },
  {
   "cell_type": "code",
   "execution_count": 24,
   "metadata": {},
   "outputs": [
    {
     "data": {
      "text/plain": [
       "0.041621327529923834"
      ]
     },
     "execution_count": 24,
     "metadata": {},
     "output_type": "execute_result"
    }
   ],
   "source": [
    "Pizza = established[established['object_type'] == 'Pizza']\n",
    "len(established[established['object_type'] == 'Pizza']) / len(established['object_type'])"
   ]
  },
  {
   "cell_type": "markdown",
   "metadata": {},
   "source": [
    "4.16 are pizza chain."
   ]
  },
  {
   "cell_type": "code",
   "execution_count": 25,
   "metadata": {},
   "outputs": [
    {
     "data": {
      "text/plain": [
       "0.38101160862354894"
      ]
     },
     "execution_count": 25,
     "metadata": {},
     "output_type": "execute_result"
    }
   ],
   "source": [
    "len(established) /(len(established)+ len(not_established))"
   ]
  },
  {
   "cell_type": "markdown",
   "metadata": {},
   "source": [
    "The part of established chain is 38.1%."
   ]
  },
  {
   "cell_type": "code",
   "execution_count": 26,
   "metadata": {},
   "outputs": [],
   "source": [
    "array = np.array([len(Cafe), len(Restaurant), len(Fast_Food), len(Bakery), len(Bar), len(Pizza)])"
   ]
  },
  {
   "cell_type": "code",
   "execution_count": 27,
   "metadata": {},
   "outputs": [
    {
     "data": {
      "image/png": "[encoded data removed]",
      "text/plain": [
       "<Figure size 432x288 with 1 Axes>"
      ]
     },
     "metadata": {
      "needs_background": "light"
     },
     "output_type": "display_data"
    }
   ],
   "source": [
    "plt.xlabel('Type of business')\n",
    "plt.ylabel('Number of Businesses')\n",
    "plt.bar(['Cafe', 'Restaurant', 'Fast Food', 'Bakery', 'Bar', 'Pizza'], array)\n",
    "\n",
    "plt.show()"
   ]
  },
  {
   "cell_type": "markdown",
   "metadata": {},
   "source": [
    "<div class=\"alert alert-block alert-danger\">\n",
    "<b>Reviewer's comment</b> <a class=\"tocSkip\"></a>\n",
    "\n",
    "Could you add x and y axis labels and a title, please\n",
    "</div>"
   ]
  },
  {
   "cell_type": "markdown",
   "metadata": {},
   "source": [
    "<div class=\"alert alert-block alert-success\">\n",
    "<b>Reviewer's comment 2</b> <a class=\"tocSkip\"></a>\n",
    "\n",
    "Good!\n",
    "</div>"
   ]
  },
  {
   "cell_type": "markdown",
   "metadata": {},
   "source": [
    "Most of the values are Restaurant and than come the Fast Food in seconde place."
   ]
  },
  {
   "cell_type": "code",
   "execution_count": 28,
   "metadata": {},
   "outputs": [
    {
     "data": {
      "image/png": "[encoded data removed]",
      "text/plain": [
       "<Figure size 432x288 with 1 Axes>"
      ]
     },
     "metadata": {},
     "output_type": "display_data"
    }
   ],
   "source": [
    "labels = ['Chained established', 'Not Chained established']\n",
    "sizes = [len(established), len(not_established)]\n",
    "colors = sns.color_palette(\"Paired\")\n",
    "explode = (0.1, 0)\n",
    "plt.pie(sizes, explode=explode, labels=labels, colors=colors, autopct='%1.1f%%', shadow=True, startangle=140)\n",
    "\n",
    "plt.axis('equal')\n",
    "plt.show()"
   ]
  },
  {
   "cell_type": "markdown",
   "metadata": {},
   "source": [
    "<div class=\"alert alert-block alert-danger\">\n",
    "<b>Reviewer's comment</b> <a class=\"tocSkip\"></a>\n",
    "\n",
    "Pie chart will be the best here, because it can help us to look at the proportions closer \n",
    "</div>"
   ]
  },
  {
   "cell_type": "markdown",
   "metadata": {},
   "source": [
    "<div class=\"alert alert-block alert-success\">\n",
    "<b>Reviewer's comment 2</b> <a class=\"tocSkip\"></a>\n",
    "\n",
    "Beautiful\n",
    "</div>"
   ]
  },
  {
   "cell_type": "markdown",
   "metadata": {},
   "source": [
    "The number of restaurant that are not chain established is higher, most of the market is consist by little restaurant."
   ]
  },
  {
   "cell_type": "code",
   "execution_count": 29,
   "metadata": {},
   "outputs": [
    {
     "data": {
      "text/plain": [
       "Restaurant    2292\n",
       "Fast Food      605\n",
       "Bakery         283\n",
       "Cafe           266\n",
       "Pizza          153\n",
       "Bar             77\n",
       "Name: object_type, dtype: int64"
      ]
     },
     "execution_count": 29,
     "metadata": {},
     "output_type": "execute_result"
    }
   ],
   "source": [
    "established['object_type'].value_counts().sort_values(ascending=False)"
   ]
  },
  {
   "cell_type": "markdown",
   "metadata": {},
   "source": [
    "Restaurant that is typcally established. Restaurant are the most common in the first place."
   ]
  },
  {
   "cell_type": "code",
   "execution_count": 30,
   "metadata": {},
   "outputs": [
    {
     "data": {
      "text/html": [
       "<div>\n",
       "<style scoped>\n",
       "    .dataframe tbody tr th:only-of-type {\n",
       "        vertical-align: middle;\n",
       "    }\n",
       "\n",
       "    .dataframe tbody tr th {\n",
       "        vertical-align: top;\n",
       "    }\n",
       "\n",
       "    .dataframe thead th {\n",
       "        text-align: right;\n",
       "    }\n",
       "</style>\n",
       "<table border=\"1\" class=\"dataframe\">\n",
       "  <thead>\n",
       "    <tr style=\"text-align: right;\">\n",
       "      <th></th>\n",
       "      <th>object_type</th>\n",
       "      <th>number</th>\n",
       "    </tr>\n",
       "  </thead>\n",
       "  <tbody>\n",
       "    <tr>\n",
       "      <td>5</td>\n",
       "      <td>Restaurant</td>\n",
       "      <td>44.856021</td>\n",
       "    </tr>\n",
       "    <tr>\n",
       "      <td>1</td>\n",
       "      <td>Bar</td>\n",
       "      <td>40.259740</td>\n",
       "    </tr>\n",
       "    <tr>\n",
       "      <td>3</td>\n",
       "      <td>Fast Food</td>\n",
       "      <td>38.089256</td>\n",
       "    </tr>\n",
       "    <tr>\n",
       "      <td>2</td>\n",
       "      <td>Cafe</td>\n",
       "      <td>25.917293</td>\n",
       "    </tr>\n",
       "    <tr>\n",
       "      <td>4</td>\n",
       "      <td>Pizza</td>\n",
       "      <td>25.529412</td>\n",
       "    </tr>\n",
       "    <tr>\n",
       "      <td>0</td>\n",
       "      <td>Bakery</td>\n",
       "      <td>21.773852</td>\n",
       "    </tr>\n",
       "  </tbody>\n",
       "</table>\n",
       "</div>"
      ],
      "text/plain": [
       "  object_type     number\n",
       "5  Restaurant  44.856021\n",
       "1         Bar  40.259740\n",
       "3   Fast Food  38.089256\n",
       "2        Cafe  25.917293\n",
       "4       Pizza  25.529412\n",
       "0      Bakery  21.773852"
      ]
     },
     "execution_count": 30,
     "metadata": {},
     "output_type": "execute_result"
    }
   ],
   "source": [
    "established.groupby('object_type', as_index=False).agg({'number':'mean'}).sort_values(by='number' ,ascending=False)"
   ]
  },
  {
   "cell_type": "markdown",
   "metadata": {},
   "source": [
    "<div class=\"alert alert-block alert-success\">\n",
    "<b>Reviewer's comment</b> <a class=\"tocSkip\"></a>\n",
    "\n",
    "Good job\n",
    "</div>"
   ]
  },
  {
   "cell_type": "code",
   "execution_count": 31,
   "metadata": {},
   "outputs": [
    {
     "data": {
      "text/plain": [
       "<seaborn.axisgrid.PairGrid at 0x7f7f2e85ad90>"
      ]
     },
     "execution_count": 31,
     "metadata": {},
     "output_type": "execute_result"
    },
    {
     "data": {
      "image/png": "[encoded data removed]",
      "text/plain": [
       "<Figure size 631.125x540 with 12 Axes>"
      ]
     },
     "metadata": {
      "needs_background": "light"
     },
     "output_type": "display_data"
    }
   ],
   "source": [
    "sns.pairplot(established, hue='object_type')"
   ]
  },
  {
   "cell_type": "markdown",
   "metadata": {},
   "source": [
    "<div class=\"alert alert-block alert-warning\">\n",
    "<b>Reviewer's comment</b> <a class=\"tocSkip\"></a>\n",
    "\n",
    "We can add an alpha parameter here to make our dots translucent. So we can find the clusters of dots much easier\n",
    "</div>"
   ]
  },
  {
   "cell_type": "code",
   "execution_count": 32,
   "metadata": {},
   "outputs": [
    {
     "data": {
      "text/plain": [
       "<seaborn.axisgrid.PairGrid at 0x7f7f36fe5590>"
      ]
     },
     "execution_count": 32,
     "metadata": {},
     "output_type": "execute_result"
    },
    {
     "data": {
      "image/png": "[encoded data removed]",
      "text/plain": [
       "<Figure size 631.125x540 with 12 Axes>"
      ]
     },
     "metadata": {
      "needs_background": "light"
     },
     "output_type": "display_data"
    }
   ],
   "source": [
    "# Reviewer's code\n",
    "sns.pairplot(established, hue='object_type', plot_kws={'alpha': 0.01})"
   ]
  },
  {
   "cell_type": "markdown",
   "metadata": {},
   "source": [
    "As you can see bars as the second place in the number of chair, but bars alos as the lowest number of established chain.\n",
    "Bar seem to be have a lot of chairs at their place (peoples like to sit down and drink their beer).\n",
    "Resturant also has a lot of chair at their place, I dont blame the costumer I like to eat while I sit too.\n",
    "Regardless to the way people eat and drink there's a nerative of which place surve the costumer porpuse what is the porpuse,\n",
    "for example if I want to spare some time and take my time while I'm eating I would be better hang out in thos place I've mentioned earlier But if I want to grab somthing and go most likly I'll visit places like Cafe ,Pizza ,and Bakery."
   ]
  },
  {
   "cell_type": "markdown",
   "metadata": {},
   "source": [
    "<div class=\"alert alert-block alert-success\">\n",
    "<b>Reviewer's comment</b> <a class=\"tocSkip\"></a>\n",
    "\n",
    "👍\n",
    "</div>"
   ]
  },
  {
   "cell_type": "code",
   "execution_count": 33,
   "metadata": {},
   "outputs": [
    {
     "data": {
      "image/png": "[encoded data removed]",
      "text/plain": [
       "<Figure size 432x288 with 1 Axes>"
      ]
     },
     "metadata": {
      "needs_background": "light"
     },
     "output_type": "display_data"
    }
   ],
   "source": [
    "ax = sns.barplot(x=\"object_type\", y=\"number\", data=resturantData, estimator=median) "
   ]
  },
  {
   "cell_type": "markdown",
   "metadata": {},
   "source": [
    "It can be shown in the graph above that \"Restaurant\" and \"Bar\" has the highest number of seats (by average)."
   ]
  },
  {
   "cell_type": "code",
   "execution_count": 34,
   "metadata": {},
   "outputs": [],
   "source": [
    "def super_func(address):\n",
    "    \n",
    "    clean_address = []\n",
    "    for word in address.split()[1:]:\n",
    "        if word == \"#\" or word[0] == \"#\":\n",
    "            break\n",
    "        clean_address.append(word)\n",
    "        if word in (\"BLVD\", \"ST\", \"AVE\", \"DR\", \"RD\", \"STE\") :\n",
    "            break\n",
    "        \n",
    "    \n",
    "    return \" \".join(clean_address)"
   ]
  },
  {
   "cell_type": "code",
   "execution_count": 35,
   "metadata": {},
   "outputs": [],
   "source": [
    "resturantData['street'] = resturantData['address'].apply(super_func)"
   ]
  },
  {
   "cell_type": "code",
   "execution_count": 36,
   "metadata": {},
   "outputs": [],
   "source": [
    "topTenRetaurnat = resturantData.groupby('street', as_index=False).agg({'object_type':'count', 'number':'sum'}).sort_values(by='object_type', ascending=False).head(10)"
   ]
  },
  {
   "cell_type": "code",
   "execution_count": 37,
   "metadata": {},
   "outputs": [
    {
     "data": {
      "image/png": "[encoded data removed]",
      "text/plain": [
       "<Figure size 432x288 with 1 Axes>"
      ]
     },
     "metadata": {},
     "output_type": "display_data"
    }
   ],
   "source": [
    "labels = np.array(topTenRetaurnat['street'])\n",
    "sizes = np.array(topTenRetaurnat['object_type'])\n",
    "colors = sns.color_palette(\"Paired\")\n",
    "explode = (0.1, 0, 0, 0, 0, 0, 0, 0 ,0 ,0)\n",
    "plt.pie(sizes, explode=explode, labels=labels, colors=colors, autopct='%1.1f%%', shadow=True, startangle=140)\n",
    "\n",
    "plt.axis('equal')\n",
    "plt.show()"
   ]
  },
  {
   "cell_type": "markdown",
   "metadata": {},
   "source": [
    "Seems like WILSHRIE BLDV street contain to largest number of restaurant."
   ]
  },
  {
   "cell_type": "code",
   "execution_count": 38,
   "metadata": {},
   "outputs": [
    {
     "data": {
      "text/plain": [
       "434"
      ]
     },
     "execution_count": 38,
     "metadata": {},
     "output_type": "execute_result"
    }
   ],
   "source": [
    "streetWithOneRestaurnat = (resturantData.groupby('street', as_index=False).agg({'object_type':'count'}).sort_values(by='object_type', ascending=True))\n",
    "streetWithOneRestaurnat = streetWithOneRestaurnat[streetWithOneRestaurnat['object_type'] == 1]\n",
    "len(streetWithOneRestaurnat)"
   ]
  },
  {
   "cell_type": "markdown",
   "metadata": {},
   "source": [
    "There are 434 streets with one restaurant."
   ]
  },
  {
   "cell_type": "code",
   "execution_count": 39,
   "metadata": {},
   "outputs": [
    {
     "data": {
      "image/png": "[encoded data removed]",
      "text/plain": [
       "<Figure size 432x288 with 1 Axes>"
      ]
     },
     "metadata": {
      "needs_background": "light"
     },
     "output_type": "display_data"
    }
   ],
   "source": [
    "plt.xticks(rotation=45)\n",
    "sns.barplot(x='street', y='number', data=topTenRetaurnat)\n",
    "plt.show()"
   ]
  },
  {
   "cell_type": "markdown",
   "metadata": {},
   "source": [
    "<div class=\"alert alert-block alert-success\">\n",
    "<b>Reviewer's comment</b> <a class=\"tocSkip\"></a>\n",
    "\n",
    "Very beautiful\n",
    "</div>"
   ]
  },
  {
   "cell_type": "markdown",
   "metadata": {},
   "source": [
    "There obviously a trend that can be drawn be looking at the two graphh above. The more restaurant the street contain the more chair will be."
   ]
  },
  {
   "cell_type": "markdown",
   "metadata": {},
   "source": [
    "The most common chain are restaurant and fast-food store so my recomendation is:\n",
    "\n",
    "1) open up a restaurant because they have big chunk of the market(They are 62.35% of the market).\n",
    "\n",
    "2) Moreove we should put 40 chair because that the average number of chair for restaurant and we want to make the place effactive and proffitable but not to big and empty. also the waiters need to be able to handle all tables correctly beacuse there will be no robots to surve.\n",
    "\n",
    "3) It should be where there are alot of crowd to attract as many costumer(Like in WILSHRIE BLDV street)."
   ]
  },
  {
   "cell_type": "markdown",
   "metadata": {},
   "source": [
    "<div class=\"alert alert-block alert-success\">\n",
    "<b>Reviewer's comment</b> <a class=\"tocSkip\"></a>\n",
    "\n",
    "Thanks for the informative conclusion\n",
    "</div>"
   ]
  },
  {
   "cell_type": "markdown",
   "metadata": {},
   "source": [
    "Presentaion: https://drive.google.com/file/d/19rrqSHBQoegliPIfDNAYN6FR7mQTSS2-/view?usp=sharing"
   ]
  },
  {
   "cell_type": "markdown",
   "metadata": {},
   "source": [
    "<div class=\"alert alert-block alert-danger\">\n",
    "<b>Reviewer's comment</b> <a class=\"tocSkip\"></a>\n",
    "\n",
    "I can't get an access to this file :( Please, upload your presentation on google drive, make it public and put a link here\n",
    "</div>"
   ]
  }
 ],
 "metadata": {
  "ExecuteTimeLog": [
   {
    "duration": 842,
    "start_time": "2022-02-28T15:23:07.854Z"
   },
   {
    "duration": 4,
    "start_time": "2022-02-28T15:25:13.344Z"
   },
   {
    "duration": 4859,
    "start_time": "2022-02-28T15:25:15.233Z"
   },
   {
    "duration": 30,
    "start_time": "2022-02-28T15:25:32.593Z"
   },
   {
    "duration": 12,
    "start_time": "2022-02-28T15:26:11.052Z"
   },
   {
    "duration": 17,
    "start_time": "2022-02-28T15:26:21.202Z"
   },
   {
    "duration": 23,
    "start_time": "2022-02-28T15:27:13.362Z"
   },
   {
    "duration": 6639,
    "start_time": "2022-02-28T15:35:24.415Z"
   },
   {
    "duration": 232,
    "start_time": "2022-02-28T15:35:38.945Z"
   },
   {
    "duration": 7,
    "start_time": "2022-02-28T15:35:46.514Z"
   },
   {
    "duration": 58,
    "start_time": "2022-02-28T15:36:02.389Z"
   },
   {
    "duration": 222,
    "start_time": "2022-02-28T15:36:10.885Z"
   },
   {
    "duration": 8,
    "start_time": "2022-02-28T15:36:25.344Z"
   },
   {
    "duration": 7,
    "start_time": "2022-02-28T15:37:56.845Z"
   },
   {
    "duration": 355,
    "start_time": "2022-02-28T15:39:38.932Z"
   },
   {
    "duration": 8,
    "start_time": "2022-02-28T15:39:47.156Z"
   },
   {
    "duration": 12,
    "start_time": "2022-02-28T15:40:00.827Z"
   },
   {
    "duration": 33,
    "start_time": "2022-02-28T15:40:50.356Z"
   },
   {
    "duration": 31,
    "start_time": "2022-02-28T15:41:04.714Z"
   },
   {
    "duration": 10,
    "start_time": "2022-02-28T15:41:19.483Z"
   },
   {
    "duration": 31,
    "start_time": "2022-02-28T15:41:26.983Z"
   },
   {
    "duration": 814,
    "start_time": "2022-02-28T15:41:50.364Z"
   },
   {
    "duration": 30,
    "start_time": "2022-02-28T15:41:51.183Z"
   },
   {
    "duration": 38,
    "start_time": "2022-02-28T15:41:51.215Z"
   },
   {
    "duration": 36,
    "start_time": "2022-02-28T15:41:51.255Z"
   },
   {
    "duration": 24,
    "start_time": "2022-02-28T15:41:51.293Z"
   },
   {
    "duration": 6,
    "start_time": "2022-02-28T15:41:51.319Z"
   },
   {
    "duration": 7,
    "start_time": "2022-02-28T15:41:51.327Z"
   },
   {
    "duration": 56,
    "start_time": "2022-02-28T15:41:51.338Z"
   },
   {
    "duration": 9,
    "start_time": "2022-02-28T15:44:10.265Z"
   },
   {
    "duration": 365,
    "start_time": "2022-02-28T15:44:49.316Z"
   },
   {
    "duration": 13,
    "start_time": "2022-02-28T15:44:55.437Z"
   },
   {
    "duration": 334,
    "start_time": "2022-02-28T15:45:10.237Z"
   },
   {
    "duration": 264,
    "start_time": "2022-02-28T15:45:19.319Z"
   },
   {
    "duration": 13,
    "start_time": "2022-02-28T15:45:29.958Z"
   },
   {
    "duration": 12,
    "start_time": "2022-02-28T15:45:43.946Z"
   },
   {
    "duration": 16,
    "start_time": "2022-02-28T15:45:55.467Z"
   },
   {
    "duration": 12229,
    "start_time": "2022-02-28T15:47:17.167Z"
   },
   {
    "duration": 5552,
    "start_time": "2022-02-28T15:47:43.239Z"
   },
   {
    "duration": 18,
    "start_time": "2022-02-28T15:48:05.043Z"
   },
   {
    "duration": 13,
    "start_time": "2022-02-28T15:48:31.998Z"
   },
   {
    "duration": 13,
    "start_time": "2022-02-28T15:48:53.936Z"
   },
   {
    "duration": 10,
    "start_time": "2022-02-28T15:49:29.279Z"
   },
   {
    "duration": 8,
    "start_time": "2022-02-28T15:50:01.777Z"
   },
   {
    "duration": 7,
    "start_time": "2022-02-28T15:50:13.926Z"
   },
   {
    "duration": 8,
    "start_time": "2022-02-28T15:50:21.136Z"
   },
   {
    "duration": 8,
    "start_time": "2022-02-28T15:52:18.140Z"
   },
   {
    "duration": 293,
    "start_time": "2022-02-28T15:52:26.557Z"
   },
   {
    "duration": 253,
    "start_time": "2022-02-28T15:52:32.676Z"
   },
   {
    "duration": 248,
    "start_time": "2022-02-28T15:52:38.427Z"
   },
   {
    "duration": 8,
    "start_time": "2022-02-28T15:52:44.887Z"
   },
   {
    "duration": 8,
    "start_time": "2022-02-28T15:52:58.439Z"
   },
   {
    "duration": 25,
    "start_time": "2022-02-28T15:53:58.115Z"
   },
   {
    "duration": 10,
    "start_time": "2022-02-28T15:54:07.597Z"
   },
   {
    "duration": 9,
    "start_time": "2022-02-28T15:54:18.586Z"
   },
   {
    "duration": 277,
    "start_time": "2022-02-28T15:56:28.208Z"
   },
   {
    "duration": 16,
    "start_time": "2022-02-28T15:56:34.889Z"
   },
   {
    "duration": 14,
    "start_time": "2022-02-28T15:56:41.128Z"
   },
   {
    "duration": 24,
    "start_time": "2022-02-28T16:10:47.356Z"
   },
   {
    "duration": -1937,
    "start_time": "2022-02-28T16:11:27.979Z"
   },
   {
    "duration": 6062,
    "start_time": "2022-02-28T16:11:33.946Z"
   },
   {
    "duration": 6,
    "start_time": "2022-02-28T16:12:07.089Z"
   },
   {
    "duration": 7,
    "start_time": "2022-02-28T16:12:47.458Z"
   },
   {
    "duration": 13,
    "start_time": "2022-02-28T16:15:00.906Z"
   },
   {
    "duration": 23,
    "start_time": "2022-02-28T16:15:52.999Z"
   },
   {
    "duration": 15,
    "start_time": "2022-02-28T16:16:19.004Z"
   },
   {
    "duration": 9,
    "start_time": "2022-02-28T16:16:44.143Z"
   },
   {
    "duration": 8,
    "start_time": "2022-02-28T16:16:56.251Z"
   },
   {
    "duration": 12,
    "start_time": "2022-02-28T16:18:27.688Z"
   },
   {
    "duration": 12,
    "start_time": "2022-02-28T16:18:31.196Z"
   },
   {
    "duration": 12,
    "start_time": "2022-02-28T16:18:54.898Z"
   },
   {
    "duration": 11,
    "start_time": "2022-02-28T16:19:37.408Z"
   },
   {
    "duration": 12,
    "start_time": "2022-02-28T16:20:47.146Z"
   },
   {
    "duration": 11,
    "start_time": "2022-02-28T16:26:24.714Z"
   },
   {
    "duration": 467,
    "start_time": "2022-02-28T16:29:47.789Z"
   },
   {
    "duration": 485,
    "start_time": "2022-02-28T16:30:02.235Z"
   },
   {
    "duration": 471,
    "start_time": "2022-02-28T16:31:23.978Z"
   },
   {
    "duration": 486,
    "start_time": "2022-02-28T16:31:34.319Z"
   },
   {
    "duration": 400,
    "start_time": "2022-02-28T16:32:03.889Z"
   },
   {
    "duration": 11,
    "start_time": "2022-02-28T16:35:30.686Z"
   },
   {
    "duration": 13,
    "start_time": "2022-02-28T16:36:06.637Z"
   },
   {
    "duration": 5528,
    "start_time": "2022-02-28T16:37:06.249Z"
   },
   {
    "duration": 10,
    "start_time": "2022-02-28T16:37:24.078Z"
   },
   {
    "duration": 9,
    "start_time": "2022-02-28T16:42:16.926Z"
   },
   {
    "duration": 11,
    "start_time": "2022-02-28T16:43:30.493Z"
   },
   {
    "duration": 8,
    "start_time": "2022-02-28T16:44:03.304Z"
   },
   {
    "duration": 327,
    "start_time": "2022-02-28T16:45:02.231Z"
   },
   {
    "duration": 8,
    "start_time": "2022-02-28T16:45:16.628Z"
   },
   {
    "duration": 8,
    "start_time": "2022-02-28T16:45:36.198Z"
   },
   {
    "duration": 8,
    "start_time": "2022-02-28T16:46:41.276Z"
   },
   {
    "duration": 9,
    "start_time": "2022-02-28T16:47:03.299Z"
   },
   {
    "duration": 8,
    "start_time": "2022-02-28T16:47:12.821Z"
   },
   {
    "duration": 8,
    "start_time": "2022-02-28T16:48:04.764Z"
   },
   {
    "duration": 8,
    "start_time": "2022-02-28T16:48:14.956Z"
   },
   {
    "duration": 8,
    "start_time": "2022-02-28T16:48:51.430Z"
   },
   {
    "duration": 111,
    "start_time": "2022-02-28T16:50:25.046Z"
   },
   {
    "duration": 249,
    "start_time": "2022-02-28T16:54:25.228Z"
   },
   {
    "duration": 218,
    "start_time": "2022-02-28T16:54:39.995Z"
   },
   {
    "duration": 8,
    "start_time": "2022-02-28T16:54:45.566Z"
   },
   {
    "duration": 308,
    "start_time": "2022-02-28T16:54:48.731Z"
   },
   {
    "duration": 5,
    "start_time": "2022-02-28T16:55:00.598Z"
   },
   {
    "duration": 6,
    "start_time": "2022-02-28T16:55:19.713Z"
   },
   {
    "duration": 6,
    "start_time": "2022-02-28T16:55:55.138Z"
   },
   {
    "duration": 5,
    "start_time": "2022-02-28T16:56:11.643Z"
   },
   {
    "duration": 5,
    "start_time": "2022-02-28T16:56:16.168Z"
   },
   {
    "duration": 5,
    "start_time": "2022-02-28T16:56:21.668Z"
   },
   {
    "duration": 781,
    "start_time": "2022-02-28T16:57:12.037Z"
   },
   {
    "duration": 36,
    "start_time": "2022-02-28T16:57:12.820Z"
   },
   {
    "duration": 39,
    "start_time": "2022-02-28T16:57:12.859Z"
   },
   {
    "duration": 15,
    "start_time": "2022-02-28T16:57:12.901Z"
   },
   {
    "duration": 20,
    "start_time": "2022-02-28T16:57:12.919Z"
   },
   {
    "duration": 5,
    "start_time": "2022-02-28T16:57:12.942Z"
   },
   {
    "duration": 37,
    "start_time": "2022-02-28T16:57:12.949Z"
   },
   {
    "duration": 33,
    "start_time": "2022-02-28T16:57:12.988Z"
   },
   {
    "duration": 8,
    "start_time": "2022-02-28T16:57:13.025Z"
   },
   {
    "duration": 23,
    "start_time": "2022-02-28T16:57:13.036Z"
   },
   {
    "duration": 27,
    "start_time": "2022-02-28T16:57:13.060Z"
   },
   {
    "duration": 17,
    "start_time": "2022-02-28T16:57:13.090Z"
   },
   {
    "duration": 35,
    "start_time": "2022-02-28T16:57:13.109Z"
   },
   {
    "duration": 24,
    "start_time": "2022-02-28T16:57:13.146Z"
   },
   {
    "duration": 12,
    "start_time": "2022-02-28T16:57:13.173Z"
   },
   {
    "duration": 20,
    "start_time": "2022-02-28T16:57:13.187Z"
   },
   {
    "duration": 19,
    "start_time": "2022-02-28T16:57:13.210Z"
   },
   {
    "duration": 24,
    "start_time": "2022-02-28T16:57:13.231Z"
   },
   {
    "duration": 14,
    "start_time": "2022-02-28T16:57:13.258Z"
   },
   {
    "duration": 17,
    "start_time": "2022-02-28T16:57:13.276Z"
   },
   {
    "duration": 18,
    "start_time": "2022-02-28T16:57:13.295Z"
   },
   {
    "duration": 16,
    "start_time": "2022-02-28T16:57:13.316Z"
   },
   {
    "duration": 16,
    "start_time": "2022-02-28T16:57:13.335Z"
   },
   {
    "duration": 13,
    "start_time": "2022-02-28T16:57:13.353Z"
   },
   {
    "duration": 6,
    "start_time": "2022-02-28T16:57:55.712Z"
   },
   {
    "duration": 245,
    "start_time": "2022-02-28T17:00:12.160Z"
   },
   {
    "duration": 542,
    "start_time": "2022-02-28T17:01:16.511Z"
   },
   {
    "duration": 682,
    "start_time": "2022-02-28T17:01:44.113Z"
   },
   {
    "duration": 509,
    "start_time": "2022-02-28T17:01:57.742Z"
   },
   {
    "duration": 253,
    "start_time": "2022-02-28T17:03:03.175Z"
   },
   {
    "duration": 4,
    "start_time": "2022-02-28T17:03:16.851Z"
   },
   {
    "duration": 232,
    "start_time": "2022-02-28T17:03:21.504Z"
   },
   {
    "duration": 505,
    "start_time": "2022-02-28T17:03:32.394Z"
   },
   {
    "duration": 516,
    "start_time": "2022-02-28T17:04:20.582Z"
   },
   {
    "duration": 511,
    "start_time": "2022-02-28T17:04:51.081Z"
   },
   {
    "duration": 528,
    "start_time": "2022-02-28T17:05:11.763Z"
   },
   {
    "duration": 228,
    "start_time": "2022-02-28T17:05:33.352Z"
   },
   {
    "duration": 249,
    "start_time": "2022-02-28T17:06:15.019Z"
   },
   {
    "duration": 469,
    "start_time": "2022-02-28T17:06:32.703Z"
   },
   {
    "duration": 654,
    "start_time": "2022-02-28T17:06:41.219Z"
   },
   {
    "duration": 73019,
    "start_time": "2022-02-28T17:07:18.265Z"
   },
   {
    "duration": 263,
    "start_time": "2022-02-28T17:11:42.822Z"
   },
   {
    "duration": 582,
    "start_time": "2022-02-28T17:12:11.422Z"
   },
   {
    "duration": 479,
    "start_time": "2022-02-28T17:13:26.412Z"
   },
   {
    "duration": 638,
    "start_time": "2022-02-28T17:13:35.310Z"
   },
   {
    "duration": 245,
    "start_time": "2022-02-28T17:13:52.967Z"
   },
   {
    "duration": 232,
    "start_time": "2022-02-28T17:15:03.476Z"
   },
   {
    "duration": 505,
    "start_time": "2022-02-28T17:15:22.384Z"
   },
   {
    "duration": 779,
    "start_time": "2022-02-28T17:20:42.233Z"
   },
   {
    "duration": 842,
    "start_time": "2022-02-28T17:21:09.006Z"
   },
   {
    "duration": 297,
    "start_time": "2022-02-28T17:21:29.373Z"
   },
   {
    "duration": 221,
    "start_time": "2022-02-28T17:21:41.177Z"
   },
   {
    "duration": 275,
    "start_time": "2022-02-28T17:22:02.581Z"
   },
   {
    "duration": 227,
    "start_time": "2022-02-28T17:22:14.681Z"
   },
   {
    "duration": 385,
    "start_time": "2022-02-28T17:22:25.224Z"
   },
   {
    "duration": 553,
    "start_time": "2022-02-28T17:22:47.010Z"
   },
   {
    "duration": 256,
    "start_time": "2022-02-28T17:22:54.111Z"
   },
   {
    "duration": 4,
    "start_time": "2022-02-28T17:24:03.671Z"
   },
   {
    "duration": 219,
    "start_time": "2022-02-28T17:24:22.669Z"
   },
   {
    "duration": 461,
    "start_time": "2022-02-28T17:24:31.593Z"
   },
   {
    "duration": 246,
    "start_time": "2022-02-28T17:24:44.263Z"
   },
   {
    "duration": 481,
    "start_time": "2022-02-28T17:24:58.880Z"
   },
   {
    "duration": 630,
    "start_time": "2022-02-28T17:25:05.718Z"
   },
   {
    "duration": 488,
    "start_time": "2022-02-28T17:25:26.123Z"
   },
   {
    "duration": 461,
    "start_time": "2022-02-28T17:25:32.172Z"
   },
   {
    "duration": 411,
    "start_time": "2022-02-28T17:25:45.271Z"
   },
   {
    "duration": 200,
    "start_time": "2022-02-28T17:26:03.515Z"
   },
   {
    "duration": 22,
    "start_time": "2022-02-28T17:30:01.401Z"
   },
   {
    "duration": 57560,
    "start_time": "2022-02-28T17:30:13.600Z"
   },
   {
    "duration": 198,
    "start_time": "2022-02-28T17:32:25.931Z"
   },
   {
    "duration": 13,
    "start_time": "2022-02-28T17:49:31.543Z"
   },
   {
    "duration": 9,
    "start_time": "2022-02-28T17:49:53.717Z"
   },
   {
    "duration": 10,
    "start_time": "2022-02-28T17:50:23.063Z"
   },
   {
    "duration": 11,
    "start_time": "2022-02-28T17:51:12.005Z"
   },
   {
    "duration": 12,
    "start_time": "2022-02-28T17:51:13.900Z"
   },
   {
    "duration": 10,
    "start_time": "2022-02-28T17:51:15.363Z"
   },
   {
    "duration": 10,
    "start_time": "2022-02-28T17:51:16.328Z"
   },
   {
    "duration": 13,
    "start_time": "2022-02-28T17:51:46.129Z"
   },
   {
    "duration": 12,
    "start_time": "2022-02-28T17:51:57.593Z"
   },
   {
    "duration": 74,
    "start_time": "2022-02-28T17:53:02.756Z"
   },
   {
    "duration": 476,
    "start_time": "2022-02-28T17:53:59.931Z"
   },
   {
    "duration": 242,
    "start_time": "2022-02-28T17:56:52.874Z"
   },
   {
    "duration": 4,
    "start_time": "2022-02-28T17:57:06.120Z"
   },
   {
    "duration": 272,
    "start_time": "2022-02-28T17:57:12.084Z"
   },
   {
    "duration": 9,
    "start_time": "2022-02-28T18:00:41.153Z"
   },
   {
    "duration": 6,
    "start_time": "2022-02-28T18:00:50.231Z"
   },
   {
    "duration": 10,
    "start_time": "2022-02-28T18:01:07.983Z"
   },
   {
    "duration": 229,
    "start_time": "2022-02-28T18:02:11.256Z"
   },
   {
    "duration": 12,
    "start_time": "2022-02-28T18:02:20.420Z"
   },
   {
    "duration": 27,
    "start_time": "2022-02-28T18:02:37.200Z"
   },
   {
    "duration": 231,
    "start_time": "2022-02-28T18:03:09.951Z"
   },
   {
    "duration": 9,
    "start_time": "2022-02-28T18:03:15.505Z"
   },
   {
    "duration": 230,
    "start_time": "2022-02-28T18:04:09.033Z"
   },
   {
    "duration": 9,
    "start_time": "2022-02-28T18:04:18.605Z"
   },
   {
    "duration": 6191,
    "start_time": "2022-02-28T18:04:45.320Z"
   },
   {
    "duration": 7418,
    "start_time": "2022-02-28T18:05:01.611Z"
   },
   {
    "duration": 9,
    "start_time": "2022-02-28T18:05:24.240Z"
   },
   {
    "duration": 9,
    "start_time": "2022-02-28T18:05:32.956Z"
   },
   {
    "duration": 10,
    "start_time": "2022-02-28T18:07:04.010Z"
   },
   {
    "duration": 14,
    "start_time": "2022-02-28T18:07:13.833Z"
   },
   {
    "duration": 4318,
    "start_time": "2022-02-28T18:10:19.953Z"
   },
   {
    "duration": 319,
    "start_time": "2022-02-28T18:11:09.070Z"
   },
   {
    "duration": 14,
    "start_time": "2022-02-28T18:11:19.573Z"
   },
   {
    "duration": 229,
    "start_time": "2022-02-28T18:11:49.885Z"
   },
   {
    "duration": 17,
    "start_time": "2022-02-28T18:11:56.200Z"
   },
   {
    "duration": 16,
    "start_time": "2022-02-28T18:12:53.993Z"
   },
   {
    "duration": 16,
    "start_time": "2022-02-28T18:13:03.221Z"
   },
   {
    "duration": 17,
    "start_time": "2022-02-28T18:13:09.511Z"
   },
   {
    "duration": 239,
    "start_time": "2022-02-28T18:17:59.984Z"
   },
   {
    "duration": 512,
    "start_time": "2022-02-28T18:18:47.463Z"
   },
   {
    "duration": -1405,
    "start_time": "2022-02-28T18:20:02.547Z"
   },
   {
    "duration": 100,
    "start_time": "2022-02-28T18:20:02.271Z"
   },
   {
    "duration": 470,
    "start_time": "2022-02-28T18:20:08.789Z"
   },
   {
    "duration": 5253,
    "start_time": "2022-02-28T18:20:48.063Z"
   },
   {
    "duration": 297,
    "start_time": "2022-02-28T18:20:56.161Z"
   },
   {
    "duration": 231,
    "start_time": "2022-02-28T18:21:49.571Z"
   },
   {
    "duration": 317,
    "start_time": "2022-02-28T18:21:59.989Z"
   },
   {
    "duration": 18,
    "start_time": "2022-02-28T18:22:07.506Z"
   },
   {
    "duration": 18,
    "start_time": "2022-02-28T18:22:15.296Z"
   },
   {
    "duration": 264,
    "start_time": "2022-02-28T18:22:48.427Z"
   },
   {
    "duration": 231,
    "start_time": "2022-02-28T18:23:07.972Z"
   },
   {
    "duration": 6,
    "start_time": "2022-02-28T18:25:40.571Z"
   },
   {
    "duration": 10,
    "start_time": "2022-02-28T18:26:34.851Z"
   },
   {
    "duration": 286,
    "start_time": "2022-02-28T18:28:14.522Z"
   },
   {
    "duration": 291,
    "start_time": "2022-02-28T18:38:21.255Z"
   },
   {
    "duration": 548,
    "start_time": "2022-02-28T18:39:50.443Z"
   },
   {
    "duration": 277,
    "start_time": "2022-02-28T18:40:37.309Z"
   },
   {
    "duration": 578,
    "start_time": "2022-02-28T18:41:42.794Z"
   },
   {
    "duration": 5,
    "start_time": "2022-02-28T18:42:14.640Z"
   },
   {
    "duration": 809,
    "start_time": "2022-02-28T18:42:18.786Z"
   },
   {
    "duration": 3953,
    "start_time": "2022-02-28T18:44:07.903Z"
   },
   {
    "duration": 416,
    "start_time": "2022-02-28T18:45:18.394Z"
   },
   {
    "duration": 4244,
    "start_time": "2022-02-28T18:45:45.783Z"
   },
   {
    "duration": 25,
    "start_time": "2022-02-28T18:45:50.030Z"
   },
   {
    "duration": 4813,
    "start_time": "2022-02-28T18:47:40.446Z"
   },
   {
    "duration": 8241,
    "start_time": "2022-02-28T18:47:47.371Z"
   },
   {
    "duration": 8,
    "start_time": "2022-02-28T18:50:42.073Z"
   },
   {
    "duration": 13,
    "start_time": "2022-02-28T18:51:11.556Z"
   },
   {
    "duration": 8,
    "start_time": "2022-02-28T18:57:01.241Z"
   },
   {
    "duration": 8,
    "start_time": "2022-02-28T18:57:07.744Z"
   },
   {
    "duration": 8,
    "start_time": "2022-02-28T18:57:27.529Z"
   },
   {
    "duration": 228,
    "start_time": "2022-02-28T18:58:52.021Z"
   },
   {
    "duration": 1009,
    "start_time": "2022-02-28T18:58:57.244Z"
   },
   {
    "duration": 801,
    "start_time": "2022-02-28T19:00:11.306Z"
   },
   {
    "duration": 971,
    "start_time": "2022-02-28T19:00:18.987Z"
   },
   {
    "duration": 8,
    "start_time": "2022-02-28T19:01:11.713Z"
   },
   {
    "duration": 236,
    "start_time": "2022-02-28T19:10:45.461Z"
   },
   {
    "duration": 8,
    "start_time": "2022-02-28T19:11:00.505Z"
   },
   {
    "duration": 491,
    "start_time": "2022-02-28T19:12:14.351Z"
   },
   {
    "duration": 9,
    "start_time": "2022-02-28T19:12:19.966Z"
   },
   {
    "duration": 7,
    "start_time": "2022-02-28T19:12:26.063Z"
   },
   {
    "duration": 7,
    "start_time": "2022-02-28T19:13:39.036Z"
   },
   {
    "duration": 10,
    "start_time": "2022-02-28T19:13:54.733Z"
   },
   {
    "duration": 62,
    "start_time": "2022-02-28T19:13:59.991Z"
   },
   {
    "duration": 8,
    "start_time": "2022-02-28T19:14:11.891Z"
   },
   {
    "duration": 8,
    "start_time": "2022-02-28T19:14:26.991Z"
   },
   {
    "duration": 4,
    "start_time": "2022-02-28T19:46:03.882Z"
   },
   {
    "duration": 4,
    "start_time": "2022-02-28T19:46:13.900Z"
   },
   {
    "duration": 1669,
    "start_time": "2022-02-28T19:46:34.904Z"
   },
   {
    "duration": 76,
    "start_time": "2022-02-28T19:47:50.158Z"
   },
   {
    "duration": 4,
    "start_time": "2022-02-28T19:48:04.232Z"
   },
   {
    "duration": 472,
    "start_time": "2022-02-28T19:48:06.745Z"
   },
   {
    "duration": 5,
    "start_time": "2022-02-28T19:48:18.029Z"
   },
   {
    "duration": 576,
    "start_time": "2022-02-28T19:48:18.850Z"
   },
   {
    "duration": 6,
    "start_time": "2022-02-28T19:48:46.370Z"
   },
   {
    "duration": 20,
    "start_time": "2022-02-28T19:48:47.233Z"
   },
   {
    "duration": 5,
    "start_time": "2022-02-28T20:14:40.132Z"
   },
   {
    "duration": 4,
    "start_time": "2022-02-28T20:14:48.305Z"
   },
   {
    "duration": 490,
    "start_time": "2022-02-28T20:14:49.506Z"
   },
   {
    "duration": 5,
    "start_time": "2022-02-28T20:15:07.150Z"
   },
   {
    "duration": 517,
    "start_time": "2022-02-28T20:15:08.713Z"
   },
   {
    "duration": 4,
    "start_time": "2022-02-28T20:15:38.859Z"
   },
   {
    "duration": 460,
    "start_time": "2022-02-28T20:15:39.603Z"
   },
   {
    "duration": 5,
    "start_time": "2022-02-28T20:17:12.658Z"
   },
   {
    "duration": 20,
    "start_time": "2022-02-28T20:17:13.403Z"
   },
   {
    "duration": 5,
    "start_time": "2022-02-28T20:18:39.695Z"
   },
   {
    "duration": 20,
    "start_time": "2022-02-28T20:18:40.424Z"
   },
   {
    "duration": 5,
    "start_time": "2022-02-28T20:18:46.155Z"
   },
   {
    "duration": 21,
    "start_time": "2022-02-28T20:18:46.723Z"
   },
   {
    "duration": 5,
    "start_time": "2022-02-28T20:19:44.491Z"
   },
   {
    "duration": 21,
    "start_time": "2022-02-28T20:19:45.004Z"
   },
   {
    "duration": 5,
    "start_time": "2022-02-28T20:20:38.045Z"
   },
   {
    "duration": 484,
    "start_time": "2022-02-28T20:20:38.871Z"
   },
   {
    "duration": 5,
    "start_time": "2022-02-28T20:21:06.963Z"
   },
   {
    "duration": 39,
    "start_time": "2022-02-28T20:21:07.655Z"
   },
   {
    "duration": 5,
    "start_time": "2022-02-28T20:22:52.767Z"
   },
   {
    "duration": 38,
    "start_time": "2022-02-28T20:22:53.504Z"
   },
   {
    "duration": 5,
    "start_time": "2022-02-28T20:23:25.074Z"
   },
   {
    "duration": 37,
    "start_time": "2022-02-28T20:23:25.764Z"
   },
   {
    "duration": 273,
    "start_time": "2022-02-28T20:24:06.235Z"
   },
   {
    "duration": 250,
    "start_time": "2022-02-28T20:24:16.813Z"
   },
   {
    "duration": 39,
    "start_time": "2022-02-28T20:24:25.034Z"
   },
   {
    "duration": 22,
    "start_time": "2022-02-28T20:25:21.723Z"
   },
   {
    "duration": 8,
    "start_time": "2022-02-28T20:25:37.085Z"
   },
   {
    "duration": 293,
    "start_time": "2022-02-28T20:31:46.248Z"
   },
   {
    "duration": 7,
    "start_time": "2022-02-28T20:32:47.523Z"
   },
   {
    "duration": 6,
    "start_time": "2022-02-28T20:33:03.316Z"
   },
   {
    "duration": 6,
    "start_time": "2022-02-28T20:34:37.252Z"
   },
   {
    "duration": 239,
    "start_time": "2022-02-28T20:34:49.412Z"
   },
   {
    "duration": 6,
    "start_time": "2022-02-28T20:35:06.483Z"
   },
   {
    "duration": 5,
    "start_time": "2022-02-28T20:41:16.896Z"
   },
   {
    "duration": 442,
    "start_time": "2022-02-28T20:41:34.151Z"
   },
   {
    "duration": 6,
    "start_time": "2022-02-28T20:42:51.884Z"
   },
   {
    "duration": 5,
    "start_time": "2022-02-28T20:43:35.293Z"
   },
   {
    "duration": 5,
    "start_time": "2022-02-28T20:43:36.485Z"
   },
   {
    "duration": 5,
    "start_time": "2022-02-28T20:44:04.428Z"
   },
   {
    "duration": 5,
    "start_time": "2022-02-28T20:44:05.163Z"
   },
   {
    "duration": 5841,
    "start_time": "2022-02-28T21:03:05.958Z"
   },
   {
    "duration": 22,
    "start_time": "2022-02-28T21:03:23.377Z"
   },
   {
    "duration": 7,
    "start_time": "2022-02-28T21:03:44.784Z"
   },
   {
    "duration": 75,
    "start_time": "2022-02-28T21:04:19.022Z"
   },
   {
    "duration": 238,
    "start_time": "2022-02-28T21:06:37.979Z"
   },
   {
    "duration": 6,
    "start_time": "2022-02-28T21:06:47.652Z"
   },
   {
    "duration": 6,
    "start_time": "2022-02-28T21:06:56.845Z"
   },
   {
    "duration": 5,
    "start_time": "2022-02-28T21:07:53.196Z"
   },
   {
    "duration": 4,
    "start_time": "2022-02-28T21:08:22.423Z"
   },
   {
    "duration": 92,
    "start_time": "2022-02-28T21:08:30.041Z"
   },
   {
    "duration": 6,
    "start_time": "2022-02-28T21:08:36.846Z"
   },
   {
    "duration": 4,
    "start_time": "2022-02-28T21:08:37.711Z"
   },
   {
    "duration": 5,
    "start_time": "2022-02-28T21:09:05.883Z"
   },
   {
    "duration": 103,
    "start_time": "2022-02-28T21:09:57.408Z"
   },
   {
    "duration": 4,
    "start_time": "2022-02-28T21:10:14.949Z"
   },
   {
    "duration": 4,
    "start_time": "2022-02-28T21:10:18.017Z"
   },
   {
    "duration": 6,
    "start_time": "2022-02-28T21:10:30.384Z"
   },
   {
    "duration": 4,
    "start_time": "2022-02-28T21:10:33.554Z"
   },
   {
    "duration": 6,
    "start_time": "2022-02-28T21:11:05.952Z"
   },
   {
    "duration": 5,
    "start_time": "2022-02-28T21:11:06.923Z"
   },
   {
    "duration": 5,
    "start_time": "2022-02-28T21:12:42.274Z"
   },
   {
    "duration": 3,
    "start_time": "2022-02-28T21:12:42.953Z"
   },
   {
    "duration": 3,
    "start_time": "2022-02-28T21:12:50.176Z"
   },
   {
    "duration": 5,
    "start_time": "2022-02-28T21:13:06.087Z"
   },
   {
    "duration": 6,
    "start_time": "2022-02-28T21:13:06.848Z"
   },
   {
    "duration": 5,
    "start_time": "2022-02-28T21:13:16.758Z"
   },
   {
    "duration": 5,
    "start_time": "2022-02-28T21:13:26.758Z"
   },
   {
    "duration": 5,
    "start_time": "2022-02-28T21:14:26.093Z"
   },
   {
    "duration": 256,
    "start_time": "2022-02-28T21:14:26.993Z"
   },
   {
    "duration": 225,
    "start_time": "2022-02-28T21:14:33.695Z"
   },
   {
    "duration": 13,
    "start_time": "2022-02-28T21:14:42.985Z"
   },
   {
    "duration": 8,
    "start_time": "2022-02-28T21:14:48.512Z"
   },
   {
    "duration": 281,
    "start_time": "2022-02-28T21:15:07.928Z"
   },
   {
    "duration": 7,
    "start_time": "2022-02-28T21:15:18.676Z"
   },
   {
    "duration": 6,
    "start_time": "2022-02-28T21:15:27.605Z"
   },
   {
    "duration": 12,
    "start_time": "2022-02-28T21:15:51.329Z"
   },
   {
    "duration": 27,
    "start_time": "2022-02-28T21:15:56.063Z"
   },
   {
    "duration": 6,
    "start_time": "2022-02-28T21:17:45.601Z"
   },
   {
    "duration": 12,
    "start_time": "2022-02-28T21:17:46.423Z"
   },
   {
    "duration": 26,
    "start_time": "2022-02-28T21:17:47.957Z"
   },
   {
    "duration": 5,
    "start_time": "2022-02-28T21:17:57.086Z"
   },
   {
    "duration": 13,
    "start_time": "2022-02-28T21:17:58.043Z"
   },
   {
    "duration": 28,
    "start_time": "2022-02-28T21:17:58.944Z"
   },
   {
    "duration": 5,
    "start_time": "2022-02-28T21:18:06.944Z"
   },
   {
    "duration": 12,
    "start_time": "2022-02-28T21:18:07.651Z"
   },
   {
    "duration": 26,
    "start_time": "2022-02-28T21:18:08.344Z"
   },
   {
    "duration": 5,
    "start_time": "2022-02-28T21:18:21.150Z"
   },
   {
    "duration": 12,
    "start_time": "2022-02-28T21:18:21.682Z"
   },
   {
    "duration": 26,
    "start_time": "2022-02-28T21:18:22.454Z"
   },
   {
    "duration": 77,
    "start_time": "2022-02-28T21:19:16.393Z"
   },
   {
    "duration": 276,
    "start_time": "2022-02-28T21:19:34.173Z"
   },
   {
    "duration": 6,
    "start_time": "2022-02-28T21:19:50.182Z"
   },
   {
    "duration": 7,
    "start_time": "2022-02-28T21:20:00.744Z"
   },
   {
    "duration": 6,
    "start_time": "2022-02-28T21:20:09.044Z"
   },
   {
    "duration": 6,
    "start_time": "2022-02-28T21:20:37.207Z"
   },
   {
    "duration": 7,
    "start_time": "2022-02-28T21:20:49.572Z"
   },
   {
    "duration": 6,
    "start_time": "2022-02-28T21:21:09.172Z"
   },
   {
    "duration": 264,
    "start_time": "2022-02-28T21:21:14.582Z"
   },
   {
    "duration": 5,
    "start_time": "2022-02-28T21:25:01.522Z"
   },
   {
    "duration": 311,
    "start_time": "2022-02-28T21:25:07.581Z"
   },
   {
    "duration": 214,
    "start_time": "2022-02-28T21:25:16.296Z"
   },
   {
    "duration": 6,
    "start_time": "2022-02-28T21:25:23.037Z"
   },
   {
    "duration": 6,
    "start_time": "2022-02-28T21:25:32.078Z"
   },
   {
    "duration": 6,
    "start_time": "2022-02-28T21:26:23.391Z"
   },
   {
    "duration": 6,
    "start_time": "2022-02-28T21:26:48.686Z"
   },
   {
    "duration": 225,
    "start_time": "2022-02-28T21:28:38.913Z"
   },
   {
    "duration": 6,
    "start_time": "2022-02-28T21:28:43.719Z"
   },
   {
    "duration": 5,
    "start_time": "2022-02-28T21:29:05.659Z"
   },
   {
    "duration": 5,
    "start_time": "2022-02-28T21:29:15.604Z"
   },
   {
    "duration": 6,
    "start_time": "2022-02-28T21:29:26.515Z"
   },
   {
    "duration": 6,
    "start_time": "2022-02-28T21:30:51.772Z"
   },
   {
    "duration": 4,
    "start_time": "2022-02-28T21:32:53.381Z"
   },
   {
    "duration": 227,
    "start_time": "2022-02-28T21:33:05.931Z"
   },
   {
    "duration": 497,
    "start_time": "2022-02-28T21:33:12.976Z"
   },
   {
    "duration": 5,
    "start_time": "2022-02-28T21:34:10.771Z"
   },
   {
    "duration": 483,
    "start_time": "2022-02-28T21:34:11.732Z"
   },
   {
    "duration": 4,
    "start_time": "2022-02-28T21:34:38.443Z"
   },
   {
    "duration": 11,
    "start_time": "2022-02-28T21:34:39.070Z"
   },
   {
    "duration": 4,
    "start_time": "2022-02-28T21:35:14.290Z"
   },
   {
    "duration": 9,
    "start_time": "2022-02-28T21:35:15.380Z"
   },
   {
    "duration": 8,
    "start_time": "2022-02-28T21:35:23.740Z"
   },
   {
    "duration": 4,
    "start_time": "2022-02-28T21:35:50.611Z"
   },
   {
    "duration": 6,
    "start_time": "2022-02-28T21:35:51.262Z"
   },
   {
    "duration": 4,
    "start_time": "2022-02-28T21:37:14.061Z"
   },
   {
    "duration": 476,
    "start_time": "2022-02-28T21:37:15.407Z"
   },
   {
    "duration": 4,
    "start_time": "2022-02-28T21:37:23.240Z"
   },
   {
    "duration": 10,
    "start_time": "2022-02-28T21:37:23.940Z"
   },
   {
    "duration": 9,
    "start_time": "2022-02-28T21:37:25.632Z"
   },
   {
    "duration": 4,
    "start_time": "2022-02-28T21:38:01.886Z"
   },
   {
    "duration": 56,
    "start_time": "2022-02-28T21:38:02.866Z"
   },
   {
    "duration": 7,
    "start_time": "2022-02-28T21:38:06.081Z"
   },
   {
    "duration": 5,
    "start_time": "2022-02-28T21:38:22.541Z"
   },
   {
    "duration": 13,
    "start_time": "2022-02-28T21:38:23.131Z"
   },
   {
    "duration": 7,
    "start_time": "2022-02-28T21:38:26.181Z"
   },
   {
    "duration": 5,
    "start_time": "2022-02-28T21:38:53.430Z"
   },
   {
    "duration": 53,
    "start_time": "2022-02-28T21:38:54.180Z"
   },
   {
    "duration": 7,
    "start_time": "2022-02-28T21:38:55.073Z"
   },
   {
    "duration": 5,
    "start_time": "2022-02-28T21:39:23.642Z"
   },
   {
    "duration": 12,
    "start_time": "2022-02-28T21:39:24.135Z"
   },
   {
    "duration": 7,
    "start_time": "2022-02-28T21:39:26.319Z"
   },
   {
    "duration": 5,
    "start_time": "2022-02-28T21:40:06.920Z"
   },
   {
    "duration": 45,
    "start_time": "2022-02-28T21:40:07.632Z"
   },
   {
    "duration": 7,
    "start_time": "2022-02-28T21:40:08.323Z"
   },
   {
    "duration": 5,
    "start_time": "2022-02-28T21:40:20.706Z"
   },
   {
    "duration": 11,
    "start_time": "2022-02-28T21:40:21.076Z"
   },
   {
    "duration": 8,
    "start_time": "2022-02-28T21:40:23.157Z"
   },
   {
    "duration": 4,
    "start_time": "2022-02-28T21:40:37.986Z"
   },
   {
    "duration": 48,
    "start_time": "2022-02-28T21:40:38.725Z"
   },
   {
    "duration": 9,
    "start_time": "2022-02-28T21:40:39.440Z"
   },
   {
    "duration": 5,
    "start_time": "2022-02-28T21:42:03.640Z"
   },
   {
    "duration": 1161,
    "start_time": "2022-02-28T21:42:03.881Z"
   },
   {
    "duration": -1113,
    "start_time": "2022-02-28T21:42:06.158Z"
   },
   {
    "duration": 5,
    "start_time": "2022-02-28T21:42:14.044Z"
   },
   {
    "duration": 12,
    "start_time": "2022-02-28T21:42:14.490Z"
   },
   {
    "duration": 4,
    "start_time": "2022-02-28T21:42:15.075Z"
   },
   {
    "duration": 47,
    "start_time": "2022-02-28T21:42:15.746Z"
   },
   {
    "duration": 8,
    "start_time": "2022-02-28T21:42:17.785Z"
   },
   {
    "duration": 5,
    "start_time": "2022-02-28T21:42:45.383Z"
   },
   {
    "duration": 12,
    "start_time": "2022-02-28T21:42:45.852Z"
   },
   {
    "duration": 4,
    "start_time": "2022-02-28T21:42:46.326Z"
   },
   {
    "duration": 46,
    "start_time": "2022-02-28T21:42:46.895Z"
   },
   {
    "duration": 7,
    "start_time": "2022-02-28T21:42:47.383Z"
   },
   {
    "duration": 5,
    "start_time": "2022-02-28T21:43:04.075Z"
   },
   {
    "duration": 13,
    "start_time": "2022-02-28T21:43:04.402Z"
   },
   {
    "duration": 4,
    "start_time": "2022-02-28T21:43:04.812Z"
   },
   {
    "duration": 46,
    "start_time": "2022-02-28T21:43:05.280Z"
   },
   {
    "duration": 7,
    "start_time": "2022-02-28T21:43:05.751Z"
   },
   {
    "duration": 4,
    "start_time": "2022-02-28T21:43:08.851Z"
   },
   {
    "duration": 11,
    "start_time": "2022-02-28T21:43:09.210Z"
   },
   {
    "duration": 4,
    "start_time": "2022-02-28T21:43:09.668Z"
   },
   {
    "duration": 46,
    "start_time": "2022-02-28T21:43:10.136Z"
   },
   {
    "duration": 7,
    "start_time": "2022-02-28T21:43:11.061Z"
   },
   {
    "duration": 5,
    "start_time": "2022-02-28T21:44:16.376Z"
   },
   {
    "duration": 11,
    "start_time": "2022-02-28T21:44:16.890Z"
   },
   {
    "duration": 4,
    "start_time": "2022-02-28T21:44:17.301Z"
   },
   {
    "duration": 12,
    "start_time": "2022-02-28T21:44:17.680Z"
   },
   {
    "duration": 8,
    "start_time": "2022-02-28T21:44:18.121Z"
   },
   {
    "duration": 4,
    "start_time": "2022-02-28T21:45:03.011Z"
   },
   {
    "duration": 3112,
    "start_time": "2022-02-28T21:45:04.115Z"
   },
   {
    "duration": -1432,
    "start_time": "2022-02-28T21:45:08.662Z"
   },
   {
    "duration": 6,
    "start_time": "2022-02-28T21:45:18.132Z"
   },
   {
    "duration": 11,
    "start_time": "2022-02-28T21:45:18.622Z"
   },
   {
    "duration": 4,
    "start_time": "2022-02-28T21:45:19.041Z"
   },
   {
    "duration": 11,
    "start_time": "2022-02-28T21:45:19.516Z"
   },
   {
    "duration": 8,
    "start_time": "2022-02-28T21:45:21.170Z"
   },
   {
    "duration": 5,
    "start_time": "2022-02-28T21:45:42.364Z"
   },
   {
    "duration": 11,
    "start_time": "2022-02-28T21:45:42.736Z"
   },
   {
    "duration": 4,
    "start_time": "2022-02-28T21:45:43.136Z"
   },
   {
    "duration": 12,
    "start_time": "2022-02-28T21:45:44.021Z"
   },
   {
    "duration": 8,
    "start_time": "2022-02-28T21:45:44.515Z"
   },
   {
    "duration": 5,
    "start_time": "2022-02-28T21:46:09.141Z"
   },
   {
    "duration": 12,
    "start_time": "2022-02-28T21:46:09.663Z"
   },
   {
    "duration": 4,
    "start_time": "2022-02-28T21:46:10.166Z"
   },
   {
    "duration": 12,
    "start_time": "2022-02-28T21:46:10.653Z"
   },
   {
    "duration": 8,
    "start_time": "2022-02-28T21:46:11.313Z"
   },
   {
    "duration": 5,
    "start_time": "2022-02-28T21:46:51.437Z"
   },
   {
    "duration": 12,
    "start_time": "2022-02-28T21:46:51.867Z"
   },
   {
    "duration": 4,
    "start_time": "2022-02-28T21:46:52.281Z"
   },
   {
    "duration": 11,
    "start_time": "2022-02-28T21:46:52.736Z"
   },
   {
    "duration": 7,
    "start_time": "2022-02-28T21:46:53.161Z"
   },
   {
    "duration": 5,
    "start_time": "2022-02-28T21:47:23.410Z"
   },
   {
    "duration": 11,
    "start_time": "2022-02-28T21:47:23.801Z"
   },
   {
    "duration": 4,
    "start_time": "2022-02-28T21:47:24.189Z"
   },
   {
    "duration": 11,
    "start_time": "2022-02-28T21:47:24.975Z"
   },
   {
    "duration": 7,
    "start_time": "2022-02-28T21:47:25.465Z"
   },
   {
    "duration": 5,
    "start_time": "2022-02-28T21:47:34.416Z"
   },
   {
    "duration": 12,
    "start_time": "2022-02-28T21:47:34.901Z"
   },
   {
    "duration": 4,
    "start_time": "2022-02-28T21:47:35.251Z"
   },
   {
    "duration": 12,
    "start_time": "2022-02-28T21:47:35.626Z"
   },
   {
    "duration": 8,
    "start_time": "2022-02-28T21:47:36.050Z"
   },
   {
    "duration": 5,
    "start_time": "2022-02-28T21:47:41.360Z"
   },
   {
    "duration": 12,
    "start_time": "2022-02-28T21:47:41.785Z"
   },
   {
    "duration": 5,
    "start_time": "2022-02-28T21:47:42.095Z"
   },
   {
    "duration": 11,
    "start_time": "2022-02-28T21:47:42.475Z"
   },
   {
    "duration": 8,
    "start_time": "2022-02-28T21:47:42.835Z"
   },
   {
    "duration": 5,
    "start_time": "2022-02-28T21:47:54.546Z"
   },
   {
    "duration": 12,
    "start_time": "2022-02-28T21:47:54.932Z"
   },
   {
    "duration": 5,
    "start_time": "2022-02-28T21:47:55.303Z"
   },
   {
    "duration": 12,
    "start_time": "2022-02-28T21:47:55.631Z"
   },
   {
    "duration": 8,
    "start_time": "2022-02-28T21:47:55.932Z"
   },
   {
    "duration": 5,
    "start_time": "2022-02-28T21:48:10.026Z"
   },
   {
    "duration": 13,
    "start_time": "2022-02-28T21:48:10.376Z"
   },
   {
    "duration": 5,
    "start_time": "2022-02-28T21:48:10.754Z"
   },
   {
    "duration": 1246,
    "start_time": "2022-02-28T21:48:11.074Z"
   },
   {
    "duration": -1116,
    "start_time": "2022-02-28T21:48:13.439Z"
   },
   {
    "duration": 5,
    "start_time": "2022-02-28T21:49:14.493Z"
   },
   {
    "duration": 11,
    "start_time": "2022-02-28T21:49:14.704Z"
   },
   {
    "duration": 4,
    "start_time": "2022-02-28T21:49:14.926Z"
   },
   {
    "duration": 12,
    "start_time": "2022-02-28T21:49:15.204Z"
   },
   {
    "duration": 8,
    "start_time": "2022-02-28T21:49:15.470Z"
   },
   {
    "duration": 5,
    "start_time": "2022-02-28T21:49:28.021Z"
   },
   {
    "duration": 12,
    "start_time": "2022-02-28T21:49:28.411Z"
   },
   {
    "duration": 5,
    "start_time": "2022-02-28T21:49:28.743Z"
   },
   {
    "duration": 12,
    "start_time": "2022-02-28T21:49:29.086Z"
   },
   {
    "duration": 8,
    "start_time": "2022-02-28T21:49:29.391Z"
   },
   {
    "duration": 5,
    "start_time": "2022-02-28T21:49:42.240Z"
   },
   {
    "duration": 1293,
    "start_time": "2022-02-28T21:49:42.871Z"
   },
   {
    "duration": -1276,
    "start_time": "2022-02-28T21:49:45.442Z"
   },
   {
    "duration": 5,
    "start_time": "2022-02-28T21:49:54.056Z"
   },
   {
    "duration": 11,
    "start_time": "2022-02-28T21:49:54.246Z"
   },
   {
    "duration": 4,
    "start_time": "2022-02-28T21:49:54.461Z"
   },
   {
    "duration": 12,
    "start_time": "2022-02-28T21:49:54.771Z"
   },
   {
    "duration": 7,
    "start_time": "2022-02-28T21:49:54.969Z"
   },
   {
    "duration": 5,
    "start_time": "2022-02-28T21:51:11.044Z"
   },
   {
    "duration": 12,
    "start_time": "2022-02-28T21:51:11.436Z"
   },
   {
    "duration": 4,
    "start_time": "2022-02-28T21:51:11.791Z"
   },
   {
    "duration": 1133,
    "start_time": "2022-02-28T21:51:12.191Z"
   },
   {
    "duration": -1102,
    "start_time": "2022-02-28T21:51:14.428Z"
   },
   {
    "duration": 4,
    "start_time": "2022-02-28T21:51:26.471Z"
   },
   {
    "duration": 11,
    "start_time": "2022-02-28T21:51:26.956Z"
   },
   {
    "duration": 8,
    "start_time": "2022-02-28T21:51:28.831Z"
   },
   {
    "duration": 6,
    "start_time": "2022-02-28T21:51:59.626Z"
   },
   {
    "duration": 11,
    "start_time": "2022-02-28T21:51:59.826Z"
   },
   {
    "duration": 7,
    "start_time": "2022-02-28T21:52:03.855Z"
   },
   {
    "duration": 5,
    "start_time": "2022-02-28T21:52:23.081Z"
   },
   {
    "duration": 11,
    "start_time": "2022-02-28T21:52:23.486Z"
   },
   {
    "duration": 4,
    "start_time": "2022-02-28T21:52:23.971Z"
   },
   {
    "duration": 1114,
    "start_time": "2022-02-28T21:52:24.416Z"
   },
   {
    "duration": -1276,
    "start_time": "2022-02-28T21:52:26.809Z"
   },
   {
    "duration": 5,
    "start_time": "2022-02-28T21:52:33.139Z"
   },
   {
    "duration": 1273,
    "start_time": "2022-02-28T21:52:33.876Z"
   },
   {
    "duration": 4,
    "start_time": "2022-02-28T21:52:44.891Z"
   },
   {
    "duration": 11,
    "start_time": "2022-02-28T21:52:45.658Z"
   },
   {
    "duration": 8,
    "start_time": "2022-02-28T21:52:46.703Z"
   },
   {
    "duration": 5,
    "start_time": "2022-02-28T21:53:02.842Z"
   },
   {
    "duration": 12,
    "start_time": "2022-02-28T21:53:03.306Z"
   },
   {
    "duration": 4,
    "start_time": "2022-02-28T21:53:03.857Z"
   },
   {
    "duration": 4,
    "start_time": "2022-02-28T21:53:11.876Z"
   },
   {
    "duration": 11,
    "start_time": "2022-02-28T21:53:12.558Z"
   },
   {
    "duration": 8,
    "start_time": "2022-02-28T21:53:13.356Z"
   },
   {
    "duration": 6,
    "start_time": "2022-02-28T21:53:33.280Z"
   },
   {
    "duration": 11,
    "start_time": "2022-02-28T21:53:33.756Z"
   },
   {
    "duration": 4,
    "start_time": "2022-02-28T21:53:34.211Z"
   },
   {
    "duration": 11,
    "start_time": "2022-02-28T21:53:34.617Z"
   },
   {
    "duration": 7,
    "start_time": "2022-02-28T21:53:35.394Z"
   },
   {
    "duration": 7,
    "start_time": "2022-02-28T21:53:55.100Z"
   },
   {
    "duration": 219,
    "start_time": "2022-02-28T21:54:04.386Z"
   },
   {
    "duration": 8,
    "start_time": "2022-02-28T21:54:13.315Z"
   },
   {
    "duration": 8,
    "start_time": "2022-02-28T21:54:22.169Z"
   },
   {
    "duration": 5,
    "start_time": "2022-02-28T21:54:42.707Z"
   },
   {
    "duration": 11,
    "start_time": "2022-02-28T21:54:43.006Z"
   },
   {
    "duration": 5,
    "start_time": "2022-02-28T21:54:43.329Z"
   },
   {
    "duration": 11,
    "start_time": "2022-02-28T21:54:43.594Z"
   },
   {
    "duration": 9,
    "start_time": "2022-02-28T21:54:43.892Z"
   },
   {
    "duration": 5,
    "start_time": "2022-02-28T21:54:58.903Z"
   },
   {
    "duration": 12,
    "start_time": "2022-02-28T21:54:59.191Z"
   },
   {
    "duration": 5,
    "start_time": "2022-02-28T21:54:59.511Z"
   },
   {
    "duration": 12,
    "start_time": "2022-02-28T21:54:59.771Z"
   },
   {
    "duration": 8,
    "start_time": "2022-02-28T21:55:00.051Z"
   },
   {
    "duration": 5,
    "start_time": "2022-02-28T21:55:14.623Z"
   },
   {
    "duration": 12,
    "start_time": "2022-02-28T21:55:14.891Z"
   },
   {
    "duration": 4,
    "start_time": "2022-02-28T21:55:15.176Z"
   },
   {
    "duration": 1204,
    "start_time": "2022-02-28T21:55:15.461Z"
   },
   {
    "duration": -1121,
    "start_time": "2022-02-28T21:55:17.789Z"
   },
   {
    "duration": 5,
    "start_time": "2022-02-28T21:55:22.883Z"
   },
   {
    "duration": 11,
    "start_time": "2022-02-28T21:55:23.226Z"
   },
   {
    "duration": 4,
    "start_time": "2022-02-28T21:55:23.669Z"
   },
   {
    "duration": 1175,
    "start_time": "2022-02-28T21:55:24.446Z"
   },
   {
    "duration": 4,
    "start_time": "2022-02-28T21:55:37.551Z"
   },
   {
    "duration": 1152,
    "start_time": "2022-02-28T21:55:39.123Z"
   },
   {
    "duration": 5,
    "start_time": "2022-02-28T21:55:48.651Z"
   },
   {
    "duration": 12,
    "start_time": "2022-02-28T21:55:50.621Z"
   },
   {
    "duration": 7,
    "start_time": "2022-02-28T21:55:57.191Z"
   },
   {
    "duration": 4,
    "start_time": "2022-02-28T21:56:14.824Z"
   },
   {
    "duration": 11,
    "start_time": "2022-02-28T21:56:15.202Z"
   },
   {
    "duration": 5,
    "start_time": "2022-02-28T21:56:15.711Z"
   },
   {
    "duration": 12,
    "start_time": "2022-02-28T21:56:16.281Z"
   },
   {
    "duration": 7,
    "start_time": "2022-02-28T21:56:16.884Z"
   },
   {
    "duration": 4,
    "start_time": "2022-02-28T21:56:33.952Z"
   },
   {
    "duration": 12,
    "start_time": "2022-02-28T21:56:34.456Z"
   },
   {
    "duration": 7,
    "start_time": "2022-02-28T21:56:35.044Z"
   },
   {
    "duration": 5,
    "start_time": "2022-02-28T21:56:46.544Z"
   },
   {
    "duration": 12,
    "start_time": "2022-02-28T21:56:46.901Z"
   },
   {
    "duration": 5,
    "start_time": "2022-02-28T21:56:47.256Z"
   },
   {
    "duration": 11,
    "start_time": "2022-02-28T21:56:47.592Z"
   },
   {
    "duration": 8,
    "start_time": "2022-02-28T21:56:47.911Z"
   },
   {
    "duration": 5,
    "start_time": "2022-02-28T21:56:55.236Z"
   },
   {
    "duration": 11,
    "start_time": "2022-02-28T21:56:55.507Z"
   },
   {
    "duration": 4,
    "start_time": "2022-02-28T21:56:55.837Z"
   },
   {
    "duration": 11,
    "start_time": "2022-02-28T21:56:56.142Z"
   },
   {
    "duration": 7,
    "start_time": "2022-02-28T21:56:56.436Z"
   },
   {
    "duration": 5,
    "start_time": "2022-02-28T21:57:04.182Z"
   },
   {
    "duration": 12,
    "start_time": "2022-02-28T21:57:04.492Z"
   },
   {
    "duration": 4,
    "start_time": "2022-02-28T21:57:04.827Z"
   },
   {
    "duration": 12,
    "start_time": "2022-02-28T21:57:05.102Z"
   },
   {
    "duration": 7,
    "start_time": "2022-02-28T21:57:05.467Z"
   },
   {
    "duration": 5,
    "start_time": "2022-02-28T21:57:12.427Z"
   },
   {
    "duration": 11,
    "start_time": "2022-02-28T21:57:12.725Z"
   },
   {
    "duration": 4,
    "start_time": "2022-02-28T21:57:12.946Z"
   },
   {
    "duration": 11,
    "start_time": "2022-02-28T21:57:13.166Z"
   },
   {
    "duration": 8,
    "start_time": "2022-02-28T21:57:13.596Z"
   },
   {
    "duration": 6,
    "start_time": "2022-02-28T21:57:18.282Z"
   },
   {
    "duration": 12,
    "start_time": "2022-02-28T21:57:18.605Z"
   },
   {
    "duration": 4,
    "start_time": "2022-02-28T21:57:18.885Z"
   },
   {
    "duration": 11,
    "start_time": "2022-02-28T21:57:19.195Z"
   },
   {
    "duration": 8,
    "start_time": "2022-02-28T21:57:19.570Z"
   },
   {
    "duration": 5,
    "start_time": "2022-02-28T21:57:59.254Z"
   },
   {
    "duration": 1923,
    "start_time": "2022-02-28T21:57:59.825Z"
   },
   {
    "duration": 5,
    "start_time": "2022-02-28T21:58:09.165Z"
   },
   {
    "duration": 12,
    "start_time": "2022-02-28T21:58:09.976Z"
   },
   {
    "duration": 4,
    "start_time": "2022-02-28T21:58:24.261Z"
   },
   {
    "duration": 1078,
    "start_time": "2022-02-28T21:58:24.740Z"
   },
   {
    "duration": 6,
    "start_time": "2022-02-28T21:58:49.106Z"
   },
   {
    "duration": 12,
    "start_time": "2022-02-28T21:58:49.422Z"
   },
   {
    "duration": 4,
    "start_time": "2022-02-28T21:58:49.653Z"
   },
   {
    "duration": 12,
    "start_time": "2022-02-28T21:58:49.923Z"
   },
   {
    "duration": 8,
    "start_time": "2022-02-28T21:58:50.186Z"
   },
   {
    "duration": 5,
    "start_time": "2022-02-28T21:58:56.657Z"
   },
   {
    "duration": 13,
    "start_time": "2022-02-28T21:58:56.846Z"
   },
   {
    "duration": 4,
    "start_time": "2022-02-28T21:58:57.036Z"
   },
   {
    "duration": 11,
    "start_time": "2022-02-28T21:58:57.349Z"
   },
   {
    "duration": 7,
    "start_time": "2022-02-28T21:58:57.595Z"
   },
   {
    "duration": 5,
    "start_time": "2022-02-28T21:59:07.933Z"
   },
   {
    "duration": 12,
    "start_time": "2022-02-28T21:59:08.307Z"
   },
   {
    "duration": 4,
    "start_time": "2022-02-28T21:59:08.864Z"
   },
   {
    "duration": 12,
    "start_time": "2022-02-28T21:59:09.437Z"
   },
   {
    "duration": 8,
    "start_time": "2022-02-28T21:59:10.184Z"
   },
   {
    "duration": 1429,
    "start_time": "2022-02-28T21:59:34.402Z"
   },
   {
    "duration": 31,
    "start_time": "2022-02-28T21:59:35.834Z"
   },
   {
    "duration": 42,
    "start_time": "2022-02-28T21:59:35.868Z"
   },
   {
    "duration": 17,
    "start_time": "2022-02-28T21:59:35.913Z"
   },
   {
    "duration": 51,
    "start_time": "2022-02-28T21:59:35.933Z"
   },
   {
    "duration": 8,
    "start_time": "2022-02-28T21:59:35.987Z"
   },
   {
    "duration": 15,
    "start_time": "2022-02-28T21:59:35.998Z"
   },
   {
    "duration": 31,
    "start_time": "2022-02-28T21:59:36.015Z"
   },
   {
    "duration": 38,
    "start_time": "2022-02-28T21:59:36.052Z"
   },
   {
    "duration": 19,
    "start_time": "2022-02-28T21:59:36.093Z"
   },
   {
    "duration": 12,
    "start_time": "2022-02-28T21:59:36.114Z"
   },
   {
    "duration": 16,
    "start_time": "2022-02-28T21:59:36.128Z"
   },
   {
    "duration": 37,
    "start_time": "2022-02-28T21:59:36.146Z"
   },
   {
    "duration": 14,
    "start_time": "2022-02-28T21:59:36.185Z"
   },
   {
    "duration": 13,
    "start_time": "2022-02-28T21:59:36.201Z"
   },
   {
    "duration": 10,
    "start_time": "2022-02-28T21:59:36.216Z"
   },
   {
    "duration": 9,
    "start_time": "2022-02-28T21:59:36.228Z"
   },
   {
    "duration": 49,
    "start_time": "2022-02-28T21:59:36.239Z"
   },
   {
    "duration": 13,
    "start_time": "2022-02-28T21:59:36.290Z"
   },
   {
    "duration": 10,
    "start_time": "2022-02-28T21:59:36.305Z"
   },
   {
    "duration": 9,
    "start_time": "2022-02-28T21:59:36.317Z"
   },
   {
    "duration": 9,
    "start_time": "2022-02-28T21:59:36.328Z"
   },
   {
    "duration": 48,
    "start_time": "2022-02-28T21:59:36.339Z"
   },
   {
    "duration": 14,
    "start_time": "2022-02-28T21:59:36.389Z"
   },
   {
    "duration": 6,
    "start_time": "2022-02-28T21:59:36.405Z"
   },
   {
    "duration": 240,
    "start_time": "2022-02-28T21:59:36.414Z"
   },
   {
    "duration": 223,
    "start_time": "2022-02-28T21:59:36.661Z"
   },
   {
    "duration": 12,
    "start_time": "2022-02-28T21:59:36.888Z"
   },
   {
    "duration": 18,
    "start_time": "2022-02-28T21:59:36.903Z"
   },
   {
    "duration": 7404,
    "start_time": "2022-02-28T21:59:36.924Z"
   },
   {
    "duration": 951,
    "start_time": "2022-02-28T21:59:44.331Z"
   },
   {
    "duration": 5,
    "start_time": "2022-02-28T21:59:45.285Z"
   },
   {
    "duration": 16,
    "start_time": "2022-02-28T21:59:45.293Z"
   },
   {
    "duration": 6,
    "start_time": "2022-02-28T21:59:45.311Z"
   },
   {
    "duration": 18,
    "start_time": "2022-02-28T21:59:45.320Z"
   },
   {
    "duration": 9,
    "start_time": "2022-02-28T21:59:45.341Z"
   },
   {
    "duration": 5,
    "start_time": "2022-02-28T22:00:02.771Z"
   },
   {
    "duration": 12,
    "start_time": "2022-02-28T22:00:03.959Z"
   },
   {
    "duration": 8,
    "start_time": "2022-02-28T22:00:05.596Z"
   },
   {
    "duration": 4,
    "start_time": "2022-02-28T22:00:13.206Z"
   },
   {
    "duration": 12,
    "start_time": "2022-02-28T22:00:13.808Z"
   },
   {
    "duration": 8,
    "start_time": "2022-02-28T22:00:14.888Z"
   },
   {
    "duration": 5,
    "start_time": "2022-02-28T22:01:48.613Z"
   },
   {
    "duration": 13,
    "start_time": "2022-02-28T22:01:48.800Z"
   },
   {
    "duration": 4,
    "start_time": "2022-02-28T22:01:48.978Z"
   },
   {
    "duration": 12,
    "start_time": "2022-02-28T22:01:49.141Z"
   },
   {
    "duration": 7,
    "start_time": "2022-02-28T22:01:49.474Z"
   },
   {
    "duration": 5,
    "start_time": "2022-02-28T22:01:59.059Z"
   },
   {
    "duration": 12,
    "start_time": "2022-02-28T22:01:59.239Z"
   },
   {
    "duration": 5,
    "start_time": "2022-02-28T22:01:59.414Z"
   },
   {
    "duration": 12,
    "start_time": "2022-02-28T22:01:59.598Z"
   },
   {
    "duration": 8,
    "start_time": "2022-02-28T22:01:59.738Z"
   },
   {
    "duration": 4,
    "start_time": "2022-02-28T22:03:15.470Z"
   },
   {
    "duration": 11,
    "start_time": "2022-02-28T22:03:19.621Z"
   },
   {
    "duration": 7,
    "start_time": "2022-02-28T22:03:20.111Z"
   },
   {
    "duration": 4,
    "start_time": "2022-02-28T22:04:39.190Z"
   },
   {
    "duration": 1262,
    "start_time": "2022-02-28T22:04:39.970Z"
   },
   {
    "duration": -1116,
    "start_time": "2022-02-28T22:04:42.350Z"
   },
   {
    "duration": 5,
    "start_time": "2022-02-28T22:04:43.376Z"
   },
   {
    "duration": 12,
    "start_time": "2022-02-28T22:04:43.828Z"
   },
   {
    "duration": 4,
    "start_time": "2022-02-28T22:04:44.281Z"
   },
   {
    "duration": 14,
    "start_time": "2022-02-28T22:04:44.798Z"
   },
   {
    "duration": 7,
    "start_time": "2022-02-28T22:04:46.826Z"
   },
   {
    "duration": 6,
    "start_time": "2022-02-28T22:05:06.879Z"
   },
   {
    "duration": 12,
    "start_time": "2022-02-28T22:05:07.254Z"
   },
   {
    "duration": 4,
    "start_time": "2022-02-28T22:05:07.720Z"
   },
   {
    "duration": 11,
    "start_time": "2022-02-28T22:05:08.016Z"
   },
   {
    "duration": 7,
    "start_time": "2022-02-28T22:05:08.368Z"
   },
   {
    "duration": 5,
    "start_time": "2022-02-28T22:05:34.162Z"
   },
   {
    "duration": 1801,
    "start_time": "2022-02-28T22:05:34.621Z"
   },
   {
    "duration": -1135,
    "start_time": "2022-02-28T22:05:37.561Z"
   },
   {
    "duration": 5,
    "start_time": "2022-02-28T22:05:38.629Z"
   },
   {
    "duration": 13,
    "start_time": "2022-02-28T22:05:39.008Z"
   },
   {
    "duration": 4,
    "start_time": "2022-02-28T22:05:39.229Z"
   },
   {
    "duration": 1449,
    "start_time": "2022-02-28T22:05:39.368Z"
   },
   {
    "duration": -1154,
    "start_time": "2022-02-28T22:05:41.974Z"
   },
   {
    "duration": 6,
    "start_time": "2022-02-28T22:05:57.287Z"
   },
   {
    "duration": 13,
    "start_time": "2022-02-28T22:05:57.536Z"
   },
   {
    "duration": 4,
    "start_time": "2022-02-28T22:05:57.738Z"
   },
   {
    "duration": 11,
    "start_time": "2022-02-28T22:05:57.928Z"
   },
   {
    "duration": 8,
    "start_time": "2022-02-28T22:05:58.915Z"
   },
   {
    "duration": 6,
    "start_time": "2022-02-28T22:06:09.587Z"
   },
   {
    "duration": 12,
    "start_time": "2022-02-28T22:06:09.758Z"
   },
   {
    "duration": 4,
    "start_time": "2022-02-28T22:06:10.088Z"
   },
   {
    "duration": 11,
    "start_time": "2022-02-28T22:06:10.298Z"
   },
   {
    "duration": 8,
    "start_time": "2022-02-28T22:06:10.454Z"
   },
   {
    "duration": 5,
    "start_time": "2022-02-28T22:06:47.370Z"
   },
   {
    "duration": 12,
    "start_time": "2022-02-28T22:06:47.828Z"
   },
   {
    "duration": 8,
    "start_time": "2022-02-28T22:06:48.248Z"
   },
   {
    "duration": 5,
    "start_time": "2022-02-28T22:07:23.739Z"
   },
   {
    "duration": 12,
    "start_time": "2022-02-28T22:07:24.279Z"
   },
   {
    "duration": 9,
    "start_time": "2022-02-28T22:07:24.676Z"
   },
   {
    "duration": 4,
    "start_time": "2022-02-28T22:07:39.398Z"
   },
   {
    "duration": 12,
    "start_time": "2022-02-28T22:07:40.537Z"
   },
   {
    "duration": 7,
    "start_time": "2022-02-28T22:07:40.947Z"
   },
   {
    "duration": 5,
    "start_time": "2022-02-28T22:07:43.289Z"
   },
   {
    "duration": 12,
    "start_time": "2022-02-28T22:07:43.428Z"
   },
   {
    "duration": 4,
    "start_time": "2022-02-28T22:07:43.600Z"
   },
   {
    "duration": 14,
    "start_time": "2022-02-28T22:07:43.790Z"
   },
   {
    "duration": 9,
    "start_time": "2022-02-28T22:07:43.957Z"
   },
   {
    "duration": 4,
    "start_time": "2022-02-28T22:08:28.416Z"
   },
   {
    "duration": 13,
    "start_time": "2022-02-28T22:08:28.914Z"
   },
   {
    "duration": 8,
    "start_time": "2022-02-28T22:08:29.431Z"
   },
   {
    "duration": 6,
    "start_time": "2022-02-28T22:08:53.217Z"
   },
   {
    "duration": 11,
    "start_time": "2022-02-28T22:08:53.561Z"
   },
   {
    "duration": 5,
    "start_time": "2022-02-28T22:08:53.961Z"
   },
   {
    "duration": 12,
    "start_time": "2022-02-28T22:08:54.329Z"
   },
   {
    "duration": 8,
    "start_time": "2022-02-28T22:08:54.721Z"
   },
   {
    "duration": 5,
    "start_time": "2022-02-28T22:09:03.690Z"
   },
   {
    "duration": 12,
    "start_time": "2022-02-28T22:09:03.978Z"
   },
   {
    "duration": 5,
    "start_time": "2022-02-28T22:09:04.261Z"
   },
   {
    "duration": 14,
    "start_time": "2022-02-28T22:09:04.448Z"
   },
   {
    "duration": 8,
    "start_time": "2022-02-28T22:09:04.718Z"
   },
   {
    "duration": 5,
    "start_time": "2022-02-28T22:09:58.196Z"
   },
   {
    "duration": 1472,
    "start_time": "2022-03-01T04:34:01.169Z"
   },
   {
    "duration": 97,
    "start_time": "2022-03-01T04:34:02.644Z"
   },
   {
    "duration": 40,
    "start_time": "2022-03-01T04:34:02.745Z"
   },
   {
    "duration": 18,
    "start_time": "2022-03-01T04:34:02.789Z"
   },
   {
    "duration": 24,
    "start_time": "2022-03-01T04:34:02.810Z"
   },
   {
    "duration": 8,
    "start_time": "2022-03-01T04:34:02.837Z"
   },
   {
    "duration": 45,
    "start_time": "2022-03-01T04:34:02.848Z"
   },
   {
    "duration": 32,
    "start_time": "2022-03-01T04:34:02.896Z"
   },
   {
    "duration": 10,
    "start_time": "2022-03-01T04:34:02.933Z"
   },
   {
    "duration": 53,
    "start_time": "2022-03-01T04:34:02.946Z"
   },
   {
    "duration": 7,
    "start_time": "2022-03-01T04:34:03.002Z"
   },
   {
    "duration": 13,
    "start_time": "2022-03-01T04:34:03.012Z"
   },
   {
    "duration": 10,
    "start_time": "2022-03-01T04:34:03.028Z"
   },
   {
    "duration": 63,
    "start_time": "2022-03-01T04:34:03.041Z"
   },
   {
    "duration": 17,
    "start_time": "2022-03-01T04:34:03.107Z"
   },
   {
    "duration": 12,
    "start_time": "2022-03-01T04:34:03.127Z"
   },
   {
    "duration": 45,
    "start_time": "2022-03-01T04:34:03.142Z"
   },
   {
    "duration": 12,
    "start_time": "2022-03-01T04:34:03.190Z"
   },
   {
    "duration": 18,
    "start_time": "2022-03-01T04:34:03.205Z"
   },
   {
    "duration": 11,
    "start_time": "2022-03-01T04:34:03.226Z"
   },
   {
    "duration": 12,
    "start_time": "2022-03-01T04:34:03.240Z"
   },
   {
    "duration": 41,
    "start_time": "2022-03-01T04:34:03.254Z"
   },
   {
    "duration": 17,
    "start_time": "2022-03-01T04:34:03.297Z"
   },
   {
    "duration": 16,
    "start_time": "2022-03-01T04:34:03.317Z"
   },
   {
    "duration": 13,
    "start_time": "2022-03-01T04:34:03.335Z"
   },
   {
    "duration": 233,
    "start_time": "2022-03-01T04:34:03.351Z"
   },
   {
    "duration": 291,
    "start_time": "2022-03-01T04:34:03.590Z"
   },
   {
    "duration": 12,
    "start_time": "2022-03-01T04:34:03.883Z"
   },
   {
    "duration": 20,
    "start_time": "2022-03-01T04:34:03.897Z"
   },
   {
    "duration": 8371,
    "start_time": "2022-03-01T04:34:03.920Z"
   },
   {
    "duration": 976,
    "start_time": "2022-03-01T04:34:12.294Z"
   },
   {
    "duration": 5,
    "start_time": "2022-03-01T04:34:13.272Z"
   },
   {
    "duration": 12,
    "start_time": "2022-03-01T04:34:13.286Z"
   },
   {
    "duration": 7,
    "start_time": "2022-03-01T04:34:13.300Z"
   },
   {
    "duration": 14,
    "start_time": "2022-03-01T04:34:13.309Z"
   },
   {
    "duration": 12,
    "start_time": "2022-03-01T04:34:13.325Z"
   },
   {
    "duration": 8,
    "start_time": "2022-03-01T04:35:10.279Z"
   },
   {
    "duration": 6,
    "start_time": "2022-03-01T04:43:06.898Z"
   },
   {
    "duration": 5,
    "start_time": "2022-03-01T04:43:20.661Z"
   },
   {
    "duration": 5,
    "start_time": "2022-03-01T04:43:30.681Z"
   },
   {
    "duration": 6,
    "start_time": "2022-03-01T04:44:27.288Z"
   },
   {
    "duration": 8,
    "start_time": "2022-03-01T04:45:33.718Z"
   },
   {
    "duration": 5,
    "start_time": "2022-03-01T04:45:38.534Z"
   },
   {
    "duration": 5,
    "start_time": "2022-03-01T04:45:48.441Z"
   },
   {
    "duration": 4,
    "start_time": "2022-03-01T04:46:08.488Z"
   },
   {
    "duration": 5,
    "start_time": "2022-03-01T04:46:11.754Z"
   },
   {
    "duration": 352,
    "start_time": "2022-03-01T04:46:41.237Z"
   },
   {
    "duration": 223,
    "start_time": "2022-03-01T04:46:48.296Z"
   },
   {
    "duration": 5,
    "start_time": "2022-03-01T04:47:03.638Z"
   },
   {
    "duration": 12,
    "start_time": "2022-03-01T04:47:04.983Z"
   },
   {
    "duration": 5,
    "start_time": "2022-03-01T04:47:09.508Z"
   },
   {
    "duration": 6,
    "start_time": "2022-03-01T04:47:11.148Z"
   },
   {
    "duration": 5,
    "start_time": "2022-03-01T04:47:53.840Z"
   },
   {
    "duration": 351,
    "start_time": "2022-03-01T04:48:07.738Z"
   },
   {
    "duration": 6,
    "start_time": "2022-03-01T04:48:16.048Z"
   },
   {
    "duration": 6,
    "start_time": "2022-03-01T04:48:17.020Z"
   },
   {
    "duration": 4,
    "start_time": "2022-03-01T04:49:14.973Z"
   },
   {
    "duration": 6,
    "start_time": "2022-03-01T04:49:17.493Z"
   },
   {
    "duration": 75,
    "start_time": "2022-03-01T04:49:55.973Z"
   },
   {
    "duration": 4,
    "start_time": "2022-03-01T04:50:07.225Z"
   },
   {
    "duration": 5,
    "start_time": "2022-03-01T04:50:08.318Z"
   },
   {
    "duration": 4,
    "start_time": "2022-03-01T04:50:20.598Z"
   },
   {
    "duration": 5,
    "start_time": "2022-03-01T04:50:21.256Z"
   },
   {
    "duration": 4,
    "start_time": "2022-03-01T04:50:25.881Z"
   },
   {
    "duration": 6,
    "start_time": "2022-03-01T04:50:26.642Z"
   },
   {
    "duration": 224,
    "start_time": "2022-03-01T04:51:21.170Z"
   },
   {
    "duration": 5,
    "start_time": "2022-03-01T04:51:37.495Z"
   },
   {
    "duration": 6,
    "start_time": "2022-03-01T04:51:39.168Z"
   },
   {
    "duration": 7,
    "start_time": "2022-03-01T04:52:33.674Z"
   },
   {
    "duration": 1329,
    "start_time": "2022-03-01T04:52:35.098Z"
   },
   {
    "duration": 4,
    "start_time": "2022-03-01T04:52:36.936Z"
   },
   {
    "duration": 5,
    "start_time": "2022-03-01T04:52:52.010Z"
   },
   {
    "duration": 12,
    "start_time": "2022-03-01T04:52:52.951Z"
   },
   {
    "duration": 7,
    "start_time": "2022-03-01T04:52:58.521Z"
   },
   {
    "duration": 5,
    "start_time": "2022-03-01T04:53:37.522Z"
   },
   {
    "duration": 11,
    "start_time": "2022-03-01T04:53:38.138Z"
   },
   {
    "duration": 4,
    "start_time": "2022-03-01T04:53:38.849Z"
   },
   {
    "duration": 8,
    "start_time": "2022-03-01T04:53:47.520Z"
   },
   {
    "duration": 5,
    "start_time": "2022-03-01T04:53:54.449Z"
   },
   {
    "duration": 12,
    "start_time": "2022-03-01T04:53:54.783Z"
   },
   {
    "duration": 7,
    "start_time": "2022-03-01T04:53:56.810Z"
   },
   {
    "duration": 6,
    "start_time": "2022-03-01T05:27:45.019Z"
   },
   {
    "duration": 19,
    "start_time": "2022-03-01T05:27:48.818Z"
   },
   {
    "duration": 8,
    "start_time": "2022-03-01T05:27:55.668Z"
   },
   {
    "duration": 1328,
    "start_time": "2022-03-01T05:29:32.019Z"
   },
   {
    "duration": 31,
    "start_time": "2022-03-01T05:29:33.350Z"
   },
   {
    "duration": 39,
    "start_time": "2022-03-01T05:29:33.387Z"
   },
   {
    "duration": 17,
    "start_time": "2022-03-01T05:29:33.428Z"
   },
   {
    "duration": 48,
    "start_time": "2022-03-01T05:29:33.447Z"
   },
   {
    "duration": 5,
    "start_time": "2022-03-01T05:29:33.497Z"
   },
   {
    "duration": 9,
    "start_time": "2022-03-01T05:29:33.505Z"
   },
   {
    "duration": 39,
    "start_time": "2022-03-01T05:29:33.516Z"
   },
   {
    "duration": 33,
    "start_time": "2022-03-01T05:29:33.559Z"
   },
   {
    "duration": 25,
    "start_time": "2022-03-01T05:29:33.595Z"
   },
   {
    "duration": 13,
    "start_time": "2022-03-01T05:29:33.623Z"
   },
   {
    "duration": 18,
    "start_time": "2022-03-01T05:29:33.639Z"
   },
   {
    "duration": 33,
    "start_time": "2022-03-01T05:29:33.659Z"
   },
   {
    "duration": 15,
    "start_time": "2022-03-01T05:29:33.695Z"
   },
   {
    "duration": 13,
    "start_time": "2022-03-01T05:29:33.713Z"
   },
   {
    "duration": 7,
    "start_time": "2022-03-01T05:29:33.729Z"
   },
   {
    "duration": 51,
    "start_time": "2022-03-01T05:29:33.738Z"
   },
   {
    "duration": 10,
    "start_time": "2022-03-01T05:29:33.792Z"
   },
   {
    "duration": 10,
    "start_time": "2022-03-01T05:29:33.804Z"
   },
   {
    "duration": 10,
    "start_time": "2022-03-01T05:29:33.816Z"
   },
   {
    "duration": 10,
    "start_time": "2022-03-01T05:29:33.828Z"
   },
   {
    "duration": 46,
    "start_time": "2022-03-01T05:29:33.850Z"
   },
   {
    "duration": 10,
    "start_time": "2022-03-01T05:29:33.898Z"
   },
   {
    "duration": 7,
    "start_time": "2022-03-01T05:29:33.910Z"
   },
   {
    "duration": 5,
    "start_time": "2022-03-01T05:29:33.919Z"
   },
   {
    "duration": 250,
    "start_time": "2022-03-01T05:29:33.927Z"
   },
   {
    "duration": 208,
    "start_time": "2022-03-01T05:29:34.181Z"
   },
   {
    "duration": 9,
    "start_time": "2022-03-01T05:29:34.392Z"
   },
   {
    "duration": 18,
    "start_time": "2022-03-01T05:29:34.404Z"
   },
   {
    "duration": 7114,
    "start_time": "2022-03-01T05:29:34.424Z"
   },
   {
    "duration": 1000,
    "start_time": "2022-03-01T05:29:41.541Z"
   },
   {
    "duration": 5,
    "start_time": "2022-03-01T05:29:42.543Z"
   },
   {
    "duration": 6220,
    "start_time": "2022-03-01T05:29:42.550Z"
   },
   {
    "duration": -1265,
    "start_time": "2022-03-01T05:29:50.037Z"
   },
   {
    "duration": 8433,
    "start_time": "2022-03-01T05:30:23.303Z"
   },
   {
    "duration": 40,
    "start_time": "2022-03-01T05:30:37.450Z"
   },
   {
    "duration": 8,
    "start_time": "2022-03-01T05:30:42.039Z"
   },
   {
    "duration": 7630,
    "start_time": "2022-03-01T05:33:06.310Z"
   },
   {
    "duration": 27,
    "start_time": "2022-03-01T05:33:28.162Z"
   },
   {
    "duration": 243,
    "start_time": "2022-03-01T05:34:47.276Z"
   },
   {
    "duration": 247,
    "start_time": "2022-03-01T05:35:01.564Z"
   },
   {
    "duration": 23,
    "start_time": "2022-03-01T05:36:09.701Z"
   },
   {
    "duration": 24,
    "start_time": "2022-03-01T05:36:41.738Z"
   },
   {
    "duration": 21,
    "start_time": "2022-03-01T05:36:49.120Z"
   },
   {
    "duration": 17,
    "start_time": "2022-03-01T05:37:17.718Z"
   },
   {
    "duration": 12,
    "start_time": "2022-03-01T05:38:15.233Z"
   },
   {
    "duration": 4,
    "start_time": "2022-03-01T05:41:18.604Z"
   },
   {
    "duration": 6,
    "start_time": "2022-03-01T05:41:21.330Z"
   },
   {
    "duration": 4,
    "start_time": "2022-03-01T05:41:39.448Z"
   },
   {
    "duration": 7,
    "start_time": "2022-03-01T05:41:42.546Z"
   },
   {
    "duration": 4,
    "start_time": "2022-03-01T05:42:04.230Z"
   },
   {
    "duration": 5,
    "start_time": "2022-03-01T05:42:06.700Z"
   },
   {
    "duration": 9,
    "start_time": "2022-03-01T05:42:30.971Z"
   },
   {
    "duration": 1864,
    "start_time": "2022-03-01T05:44:00.968Z"
   },
   {
    "duration": 9,
    "start_time": "2022-03-01T05:44:40.792Z"
   },
   {
    "duration": 6,
    "start_time": "2022-03-01T05:44:59.111Z"
   },
   {
    "duration": 457,
    "start_time": "2022-03-01T05:45:25.022Z"
   },
   {
    "duration": 465,
    "start_time": "2022-03-01T05:45:47.288Z"
   },
   {
    "duration": 600,
    "start_time": "2022-03-01T05:46:31.169Z"
   },
   {
    "duration": 499,
    "start_time": "2022-03-01T05:46:51.260Z"
   },
   {
    "duration": 193,
    "start_time": "2022-03-01T05:47:16.690Z"
   },
   {
    "duration": 192,
    "start_time": "2022-03-01T05:47:54.721Z"
   },
   {
    "duration": 84,
    "start_time": "2022-03-01T05:49:20.227Z"
   },
   {
    "duration": 189,
    "start_time": "2022-03-01T05:49:27.529Z"
   },
   {
    "duration": 20,
    "start_time": "2022-03-01T05:50:36.511Z"
   },
   {
    "duration": 14,
    "start_time": "2022-03-01T05:50:49.114Z"
   },
   {
    "duration": 11,
    "start_time": "2022-03-01T05:51:39.169Z"
   },
   {
    "duration": 20,
    "start_time": "2022-03-01T05:51:56.739Z"
   },
   {
    "duration": 12,
    "start_time": "2022-03-01T05:52:12.251Z"
   },
   {
    "duration": 16,
    "start_time": "2022-03-01T05:52:59.461Z"
   },
   {
    "duration": 10,
    "start_time": "2022-03-01T05:55:32.518Z"
   },
   {
    "duration": 16,
    "start_time": "2022-03-01T05:56:22.480Z"
   },
   {
    "duration": 193,
    "start_time": "2022-03-01T05:56:23.360Z"
   },
   {
    "duration": 14,
    "start_time": "2022-03-01T05:56:25.084Z"
   },
   {
    "duration": 11,
    "start_time": "2022-03-01T05:56:26.353Z"
   },
   {
    "duration": 526,
    "start_time": "2022-03-01T05:59:42.697Z"
   },
   {
    "duration": 772,
    "start_time": "2022-03-01T06:00:04.009Z"
   },
   {
    "duration": 686,
    "start_time": "2022-03-01T06:00:11.974Z"
   },
   {
    "duration": 573,
    "start_time": "2022-03-01T06:00:20.997Z"
   },
   {
    "duration": 256,
    "start_time": "2022-03-01T06:00:45.240Z"
   },
   {
    "duration": 488,
    "start_time": "2022-03-01T06:02:30.139Z"
   },
   {
    "duration": 583,
    "start_time": "2022-03-01T06:02:49.644Z"
   },
   {
    "duration": 335,
    "start_time": "2022-03-01T06:06:02.002Z"
   },
   {
    "duration": 11,
    "start_time": "2022-03-01T06:08:54.267Z"
   },
   {
    "duration": 332,
    "start_time": "2022-03-01T06:14:13.924Z"
   },
   {
    "duration": 223,
    "start_time": "2022-03-01T06:19:45.528Z"
   },
   {
    "duration": 194,
    "start_time": "2022-03-01T06:19:56.333Z"
   },
   {
    "duration": 247,
    "start_time": "2022-03-01T07:40:09.026Z"
   },
   {
    "duration": 406,
    "start_time": "2022-03-01T11:04:39.674Z"
   },
   {
    "duration": 1509,
    "start_time": "2022-03-01T11:04:47.836Z"
   },
   {
    "duration": 30,
    "start_time": "2022-03-01T11:04:49.347Z"
   },
   {
    "duration": 50,
    "start_time": "2022-03-01T11:04:49.380Z"
   },
   {
    "duration": 17,
    "start_time": "2022-03-01T11:04:49.433Z"
   },
   {
    "duration": 48,
    "start_time": "2022-03-01T11:04:49.452Z"
   },
   {
    "duration": 7,
    "start_time": "2022-03-01T11:04:49.502Z"
   },
   {
    "duration": 11,
    "start_time": "2022-03-01T11:04:49.512Z"
   },
   {
    "duration": 65,
    "start_time": "2022-03-01T11:04:49.525Z"
   },
   {
    "duration": 10,
    "start_time": "2022-03-01T11:04:49.595Z"
   },
   {
    "duration": 24,
    "start_time": "2022-03-01T11:04:49.609Z"
   },
   {
    "duration": 7,
    "start_time": "2022-03-01T11:04:49.635Z"
   },
   {
    "duration": 10,
    "start_time": "2022-03-01T11:04:49.644Z"
   },
   {
    "duration": 39,
    "start_time": "2022-03-01T11:04:49.656Z"
   },
   {
    "duration": 17,
    "start_time": "2022-03-01T11:04:49.698Z"
   },
   {
    "duration": 15,
    "start_time": "2022-03-01T11:04:49.717Z"
   },
   {
    "duration": 17,
    "start_time": "2022-03-01T11:04:49.734Z"
   },
   {
    "duration": 39,
    "start_time": "2022-03-01T11:04:49.753Z"
   },
   {
    "duration": 10,
    "start_time": "2022-03-01T11:04:49.795Z"
   },
   {
    "duration": 16,
    "start_time": "2022-03-01T11:04:49.808Z"
   },
   {
    "duration": 8,
    "start_time": "2022-03-01T11:04:49.827Z"
   },
   {
    "duration": 13,
    "start_time": "2022-03-01T11:04:49.838Z"
   },
   {
    "duration": 10,
    "start_time": "2022-03-01T11:04:49.888Z"
   },
   {
    "duration": 9,
    "start_time": "2022-03-01T11:04:49.901Z"
   },
   {
    "duration": 12,
    "start_time": "2022-03-01T11:04:49.912Z"
   },
   {
    "duration": 649,
    "start_time": "2022-03-01T11:04:49.926Z"
   },
   {
    "duration": -499,
    "start_time": "2022-03-01T11:04:51.077Z"
   },
   {
    "duration": -507,
    "start_time": "2022-03-01T11:04:51.087Z"
   },
   {
    "duration": -514,
    "start_time": "2022-03-01T11:04:51.095Z"
   },
   {
    "duration": -511,
    "start_time": "2022-03-01T11:04:51.098Z"
   },
   {
    "duration": -513,
    "start_time": "2022-03-01T11:04:51.101Z"
   },
   {
    "duration": -514,
    "start_time": "2022-03-01T11:04:51.104Z"
   },
   {
    "duration": -522,
    "start_time": "2022-03-01T11:04:51.114Z"
   },
   {
    "duration": -524,
    "start_time": "2022-03-01T11:04:51.118Z"
   },
   {
    "duration": -526,
    "start_time": "2022-03-01T11:04:51.122Z"
   },
   {
    "duration": -525,
    "start_time": "2022-03-01T11:04:51.123Z"
   },
   {
    "duration": -526,
    "start_time": "2022-03-01T11:04:51.126Z"
   },
   {
    "duration": -527,
    "start_time": "2022-03-01T11:04:51.129Z"
   },
   {
    "duration": -526,
    "start_time": "2022-03-01T11:04:51.130Z"
   },
   {
    "duration": 228,
    "start_time": "2022-03-01T11:05:24.408Z"
   },
   {
    "duration": 1596,
    "start_time": "2022-03-01T11:05:44.177Z"
   },
   {
    "duration": 33,
    "start_time": "2022-03-01T11:05:45.775Z"
   },
   {
    "duration": 43,
    "start_time": "2022-03-01T11:05:45.812Z"
   },
   {
    "duration": 39,
    "start_time": "2022-03-01T11:05:45.858Z"
   },
   {
    "duration": 26,
    "start_time": "2022-03-01T11:05:45.900Z"
   },
   {
    "duration": 7,
    "start_time": "2022-03-01T11:05:45.929Z"
   },
   {
    "duration": 11,
    "start_time": "2022-03-01T11:05:45.939Z"
   },
   {
    "duration": 37,
    "start_time": "2022-03-01T11:05:45.988Z"
   },
   {
    "duration": 11,
    "start_time": "2022-03-01T11:05:46.030Z"
   },
   {
    "duration": 49,
    "start_time": "2022-03-01T11:05:46.045Z"
   },
   {
    "duration": 7,
    "start_time": "2022-03-01T11:05:46.096Z"
   },
   {
    "duration": 13,
    "start_time": "2022-03-01T11:05:46.106Z"
   },
   {
    "duration": 10,
    "start_time": "2022-03-01T11:05:46.122Z"
   },
   {
    "duration": 21,
    "start_time": "2022-03-01T11:05:46.134Z"
   },
   {
    "duration": 15,
    "start_time": "2022-03-01T11:05:46.188Z"
   },
   {
    "duration": 13,
    "start_time": "2022-03-01T11:05:46.206Z"
   },
   {
    "duration": 16,
    "start_time": "2022-03-01T11:05:46.222Z"
   },
   {
    "duration": 9,
    "start_time": "2022-03-01T11:05:46.241Z"
   },
   {
    "duration": 38,
    "start_time": "2022-03-01T11:05:46.253Z"
   },
   {
    "duration": 9,
    "start_time": "2022-03-01T11:05:46.294Z"
   },
   {
    "duration": 11,
    "start_time": "2022-03-01T11:05:46.306Z"
   },
   {
    "duration": 14,
    "start_time": "2022-03-01T11:05:46.319Z"
   },
   {
    "duration": 51,
    "start_time": "2022-03-01T11:05:46.336Z"
   },
   {
    "duration": 6,
    "start_time": "2022-03-01T11:05:46.390Z"
   },
   {
    "duration": 11,
    "start_time": "2022-03-01T11:05:46.399Z"
   },
   {
    "duration": 262,
    "start_time": "2022-03-01T11:05:46.413Z"
   },
   {
    "duration": 227,
    "start_time": "2022-03-01T11:05:46.681Z"
   },
   {
    "duration": 11,
    "start_time": "2022-03-01T11:05:46.912Z"
   },
   {
    "duration": 22,
    "start_time": "2022-03-01T11:05:46.926Z"
   },
   {
    "duration": 8298,
    "start_time": "2022-03-01T11:05:46.950Z"
   },
   {
    "duration": 1200,
    "start_time": "2022-03-01T11:05:55.252Z"
   },
   {
    "duration": 5,
    "start_time": "2022-03-01T11:05:56.455Z"
   },
   {
    "duration": 51,
    "start_time": "2022-03-01T11:05:56.462Z"
   },
   {
    "duration": 16,
    "start_time": "2022-03-01T11:05:56.515Z"
   },
   {
    "duration": 229,
    "start_time": "2022-03-01T11:05:56.534Z"
   },
   {
    "duration": 409,
    "start_time": "2022-03-01T11:05:56.765Z"
   },
   {
    "duration": -88150,
    "start_time": "2022-03-01T11:07:25.326Z"
   },
   {
    "duration": 1461,
    "start_time": "2022-03-01T11:10:13.818Z"
   },
   {
    "duration": 4,
    "start_time": "2022-03-01T11:10:15.286Z"
   },
   {
    "duration": 43,
    "start_time": "2022-03-01T11:10:15.293Z"
   },
   {
    "duration": 50,
    "start_time": "2022-03-01T11:10:15.339Z"
   },
   {
    "duration": 21,
    "start_time": "2022-03-01T11:10:15.392Z"
   },
   {
    "duration": 25,
    "start_time": "2022-03-01T11:10:15.416Z"
   },
   {
    "duration": 6,
    "start_time": "2022-03-01T11:10:15.444Z"
   },
   {
    "duration": 6,
    "start_time": "2022-03-01T11:10:15.490Z"
   },
   {
    "duration": 36,
    "start_time": "2022-03-01T11:10:15.499Z"
   },
   {
    "duration": 10,
    "start_time": "2022-03-01T11:10:15.537Z"
   },
   {
    "duration": 51,
    "start_time": "2022-03-01T11:10:15.549Z"
   },
   {
    "duration": 8,
    "start_time": "2022-03-01T11:10:15.603Z"
   },
   {
    "duration": 15,
    "start_time": "2022-03-01T11:10:15.614Z"
   },
   {
    "duration": 12,
    "start_time": "2022-03-01T11:10:15.633Z"
   },
   {
    "duration": 54,
    "start_time": "2022-03-01T11:10:15.647Z"
   },
   {
    "duration": 15,
    "start_time": "2022-03-01T11:10:15.704Z"
   },
   {
    "duration": 21,
    "start_time": "2022-03-01T11:10:15.721Z"
   },
   {
    "duration": 17,
    "start_time": "2022-03-01T11:10:15.745Z"
   },
   {
    "duration": 31,
    "start_time": "2022-03-01T11:10:15.764Z"
   },
   {
    "duration": 13,
    "start_time": "2022-03-01T11:10:15.798Z"
   },
   {
    "duration": 12,
    "start_time": "2022-03-01T11:10:15.814Z"
   },
   {
    "duration": 9,
    "start_time": "2022-03-01T11:10:15.828Z"
   },
   {
    "duration": 51,
    "start_time": "2022-03-01T11:10:15.843Z"
   },
   {
    "duration": 14,
    "start_time": "2022-03-01T11:10:15.897Z"
   },
   {
    "duration": 9,
    "start_time": "2022-03-01T11:10:15.914Z"
   },
   {
    "duration": 4,
    "start_time": "2022-03-01T11:10:15.926Z"
   },
   {
    "duration": 265,
    "start_time": "2022-03-01T11:10:15.933Z"
   },
   {
    "duration": 213,
    "start_time": "2022-03-01T11:10:16.201Z"
   },
   {
    "duration": 11,
    "start_time": "2022-03-01T11:10:16.417Z"
   },
   {
    "duration": 16,
    "start_time": "2022-03-01T11:10:16.431Z"
   },
   {
    "duration": 7693,
    "start_time": "2022-03-01T11:10:16.449Z"
   },
   {
    "duration": 1063,
    "start_time": "2022-03-01T11:10:24.144Z"
   },
   {
    "duration": 8,
    "start_time": "2022-03-01T11:10:25.211Z"
   },
   {
    "duration": 31,
    "start_time": "2022-03-01T11:10:25.222Z"
   },
   {
    "duration": 35,
    "start_time": "2022-03-01T11:10:25.256Z"
   },
   {
    "duration": 218,
    "start_time": "2022-03-01T11:10:25.294Z"
   },
   {
    "duration": 401,
    "start_time": "2022-03-01T11:10:25.515Z"
   },
   {
    "duration": -505,
    "start_time": "2022-03-01T11:10:26.424Z"
   },
   {
    "duration": 19,
    "start_time": "2022-03-01T11:11:03.699Z"
   },
   {
    "duration": 360,
    "start_time": "2022-03-01T11:11:07.830Z"
   },
   {
    "duration": 14,
    "start_time": "2022-03-01T11:11:23.467Z"
   },
   {
    "duration": 364,
    "start_time": "2022-03-01T11:11:24.592Z"
   },
   {
    "duration": 1183,
    "start_time": "2022-03-01T15:57:50.837Z"
   },
   {
    "duration": 3,
    "start_time": "2022-03-01T15:57:52.022Z"
   },
   {
    "duration": 28,
    "start_time": "2022-03-01T15:57:52.027Z"
   },
   {
    "duration": 15,
    "start_time": "2022-03-01T15:57:52.057Z"
   },
   {
    "duration": 12,
    "start_time": "2022-03-01T15:57:52.074Z"
   },
   {
    "duration": 15,
    "start_time": "2022-03-01T15:57:52.087Z"
   },
   {
    "duration": 4,
    "start_time": "2022-03-01T15:57:52.104Z"
   },
   {
    "duration": 7,
    "start_time": "2022-03-01T15:57:52.111Z"
   },
   {
    "duration": 44,
    "start_time": "2022-03-01T15:57:52.119Z"
   },
   {
    "duration": 8,
    "start_time": "2022-03-01T15:57:52.165Z"
   },
   {
    "duration": 10,
    "start_time": "2022-03-01T15:57:52.175Z"
   },
   {
    "duration": 11,
    "start_time": "2022-03-01T15:57:52.187Z"
   },
   {
    "duration": 10,
    "start_time": "2022-03-01T15:57:52.200Z"
   },
   {
    "duration": 7,
    "start_time": "2022-03-01T15:57:52.211Z"
   },
   {
    "duration": 13,
    "start_time": "2022-03-01T15:57:52.219Z"
   },
   {
    "duration": 33,
    "start_time": "2022-03-01T15:57:52.233Z"
   },
   {
    "duration": 6,
    "start_time": "2022-03-01T15:57:52.268Z"
   },
   {
    "duration": 7,
    "start_time": "2022-03-01T15:57:52.276Z"
   },
   {
    "duration": 6,
    "start_time": "2022-03-01T15:57:52.285Z"
   },
   {
    "duration": 7,
    "start_time": "2022-03-01T15:57:52.292Z"
   },
   {
    "duration": 5,
    "start_time": "2022-03-01T15:57:52.300Z"
   },
   {
    "duration": 7,
    "start_time": "2022-03-01T15:57:52.307Z"
   },
   {
    "duration": 5,
    "start_time": "2022-03-01T15:57:52.317Z"
   },
   {
    "duration": 44,
    "start_time": "2022-03-01T15:57:52.324Z"
   },
   {
    "duration": 7,
    "start_time": "2022-03-01T15:57:52.369Z"
   },
   {
    "duration": 7,
    "start_time": "2022-03-01T15:57:52.377Z"
   },
   {
    "duration": 144,
    "start_time": "2022-03-01T15:57:52.385Z"
   },
   {
    "duration": 123,
    "start_time": "2022-03-01T15:57:52.531Z"
   },
   {
    "duration": 10,
    "start_time": "2022-03-01T15:57:52.655Z"
   },
   {
    "duration": 18,
    "start_time": "2022-03-01T15:57:52.667Z"
   },
   {
    "duration": 4759,
    "start_time": "2022-03-01T15:57:52.687Z"
   },
   {
    "duration": 578,
    "start_time": "2022-03-01T15:57:57.447Z"
   },
   {
    "duration": 3,
    "start_time": "2022-03-01T15:57:58.027Z"
   },
   {
    "duration": 40,
    "start_time": "2022-03-01T15:57:58.031Z"
   },
   {
    "duration": 42,
    "start_time": "2022-03-01T15:57:58.073Z"
   },
   {
    "duration": 125,
    "start_time": "2022-03-01T15:57:58.117Z"
   },
   {
    "duration": 9,
    "start_time": "2022-03-01T15:57:58.243Z"
   },
   {
    "duration": 199,
    "start_time": "2022-03-01T15:57:58.254Z"
   },
   {
    "duration": 1140,
    "start_time": "2022-03-01T16:36:57.974Z"
   },
   {
    "duration": 2,
    "start_time": "2022-03-01T16:36:59.116Z"
   },
   {
    "duration": 24,
    "start_time": "2022-03-01T16:36:59.122Z"
   },
   {
    "duration": 24,
    "start_time": "2022-03-01T16:36:59.148Z"
   },
   {
    "duration": 12,
    "start_time": "2022-03-01T16:36:59.174Z"
   },
   {
    "duration": 13,
    "start_time": "2022-03-01T16:36:59.188Z"
   },
   {
    "duration": 5,
    "start_time": "2022-03-01T16:36:59.203Z"
   },
   {
    "duration": 29,
    "start_time": "2022-03-01T16:36:59.211Z"
   },
   {
    "duration": 22,
    "start_time": "2022-03-01T16:36:59.243Z"
   },
   {
    "duration": 12,
    "start_time": "2022-03-01T16:36:59.267Z"
   },
   {
    "duration": 17,
    "start_time": "2022-03-01T16:36:59.281Z"
   },
   {
    "duration": 17,
    "start_time": "2022-03-01T16:36:59.300Z"
   },
   {
    "duration": 14,
    "start_time": "2022-03-01T16:36:59.319Z"
   },
   {
    "duration": 12,
    "start_time": "2022-03-01T16:36:59.336Z"
   },
   {
    "duration": 12,
    "start_time": "2022-03-01T16:36:59.350Z"
   },
   {
    "duration": 13,
    "start_time": "2022-03-01T16:36:59.363Z"
   },
   {
    "duration": 10,
    "start_time": "2022-03-01T16:36:59.378Z"
   },
   {
    "duration": 17,
    "start_time": "2022-03-01T16:36:59.390Z"
   },
   {
    "duration": 16,
    "start_time": "2022-03-01T16:36:59.409Z"
   },
   {
    "duration": 12,
    "start_time": "2022-03-01T16:36:59.427Z"
   },
   {
    "duration": 7,
    "start_time": "2022-03-01T16:36:59.441Z"
   },
   {
    "duration": 10,
    "start_time": "2022-03-01T16:36:59.449Z"
   },
   {
    "duration": 10,
    "start_time": "2022-03-01T16:36:59.460Z"
   },
   {
    "duration": 11,
    "start_time": "2022-03-01T16:36:59.471Z"
   },
   {
    "duration": 8,
    "start_time": "2022-03-01T16:36:59.484Z"
   },
   {
    "duration": 7,
    "start_time": "2022-03-01T16:36:59.495Z"
   },
   {
    "duration": 129,
    "start_time": "2022-03-01T16:36:59.504Z"
   },
   {
    "duration": 117,
    "start_time": "2022-03-01T16:36:59.635Z"
   },
   {
    "duration": 12,
    "start_time": "2022-03-01T16:36:59.754Z"
   },
   {
    "duration": 17,
    "start_time": "2022-03-01T16:36:59.768Z"
   },
   {
    "duration": 4750,
    "start_time": "2022-03-01T16:36:59.787Z"
   },
   {
    "duration": 595,
    "start_time": "2022-03-01T16:37:04.539Z"
   },
   {
    "duration": 3,
    "start_time": "2022-03-01T16:37:05.136Z"
   },
   {
    "duration": 43,
    "start_time": "2022-03-01T16:37:05.141Z"
   },
   {
    "duration": 21,
    "start_time": "2022-03-01T16:37:05.186Z"
   },
   {
    "duration": 140,
    "start_time": "2022-03-01T16:37:05.209Z"
   },
   {
    "duration": 12,
    "start_time": "2022-03-01T16:37:05.351Z"
   },
   {
    "duration": 206,
    "start_time": "2022-03-01T16:37:05.365Z"
   },
   {
    "duration": 284,
    "start_time": "2022-03-01T17:23:56.538Z"
   },
   {
    "duration": 4280,
    "start_time": "2022-03-01T17:24:20.390Z"
   },
   {
    "duration": 1157,
    "start_time": "2022-03-01T19:39:10.943Z"
   },
   {
    "duration": 4,
    "start_time": "2022-03-01T19:39:12.102Z"
   },
   {
    "duration": 49,
    "start_time": "2022-03-01T19:39:12.108Z"
   },
   {
    "duration": 26,
    "start_time": "2022-03-01T19:39:12.159Z"
   },
   {
    "duration": 15,
    "start_time": "2022-03-01T19:39:12.187Z"
   },
   {
    "duration": 16,
    "start_time": "2022-03-01T19:39:12.204Z"
   },
   {
    "duration": 17,
    "start_time": "2022-03-01T19:39:12.222Z"
   },
   {
    "duration": 5,
    "start_time": "2022-03-01T19:39:12.240Z"
   },
   {
    "duration": 21,
    "start_time": "2022-03-01T19:39:12.247Z"
   },
   {
    "duration": 6,
    "start_time": "2022-03-01T19:39:12.270Z"
   },
   {
    "duration": 12,
    "start_time": "2022-03-01T19:39:12.278Z"
   },
   {
    "duration": 8,
    "start_time": "2022-03-01T19:39:12.292Z"
   },
   {
    "duration": 10,
    "start_time": "2022-03-01T19:39:12.302Z"
   },
   {
    "duration": 29,
    "start_time": "2022-03-01T19:39:12.313Z"
   },
   {
    "duration": 12,
    "start_time": "2022-03-01T19:39:12.344Z"
   },
   {
    "duration": 9,
    "start_time": "2022-03-01T19:39:12.357Z"
   },
   {
    "duration": 8,
    "start_time": "2022-03-01T19:39:12.368Z"
   },
   {
    "duration": 6,
    "start_time": "2022-03-01T19:39:12.378Z"
   },
   {
    "duration": 12,
    "start_time": "2022-03-01T19:39:12.386Z"
   },
   {
    "duration": 7,
    "start_time": "2022-03-01T19:39:12.399Z"
   },
   {
    "duration": 34,
    "start_time": "2022-03-01T19:39:12.408Z"
   },
   {
    "duration": 13,
    "start_time": "2022-03-01T19:39:12.444Z"
   },
   {
    "duration": 6,
    "start_time": "2022-03-01T19:39:12.459Z"
   },
   {
    "duration": 7,
    "start_time": "2022-03-01T19:39:12.466Z"
   },
   {
    "duration": 9,
    "start_time": "2022-03-01T19:39:12.474Z"
   },
   {
    "duration": 10,
    "start_time": "2022-03-01T19:39:12.484Z"
   },
   {
    "duration": 156,
    "start_time": "2022-03-01T19:39:12.497Z"
   },
   {
    "duration": 133,
    "start_time": "2022-03-01T19:39:12.655Z"
   },
   {
    "duration": 8,
    "start_time": "2022-03-01T19:39:12.790Z"
   },
   {
    "duration": 17,
    "start_time": "2022-03-01T19:39:12.799Z"
   },
   {
    "duration": 4671,
    "start_time": "2022-03-01T19:39:12.818Z"
   },
   {
    "duration": 4560,
    "start_time": "2022-03-01T19:39:17.490Z"
   },
   {
    "duration": 621,
    "start_time": "2022-03-01T19:39:22.052Z"
   },
   {
    "duration": 5,
    "start_time": "2022-03-01T19:39:22.675Z"
   },
   {
    "duration": 22,
    "start_time": "2022-03-01T19:39:22.681Z"
   },
   {
    "duration": 12,
    "start_time": "2022-03-01T19:39:22.705Z"
   },
   {
    "duration": 147,
    "start_time": "2022-03-01T19:39:22.719Z"
   },
   {
    "duration": 9,
    "start_time": "2022-03-01T19:39:22.868Z"
   },
   {
    "duration": 221,
    "start_time": "2022-03-01T19:39:22.879Z"
   },
   {
    "duration": 145,
    "start_time": "2022-03-01T19:43:24.312Z"
   },
   {
    "duration": 136,
    "start_time": "2022-03-01T19:43:41.131Z"
   },
   {
    "duration": 141,
    "start_time": "2022-03-01T19:43:48.061Z"
   },
   {
    "duration": 282,
    "start_time": "2022-03-01T19:44:36.180Z"
   },
   {
    "duration": 4706,
    "start_time": "2022-03-01T19:44:52.201Z"
   },
   {
    "duration": 321,
    "start_time": "2022-03-01T19:47:28.072Z"
   },
   {
    "duration": 71,
    "start_time": "2022-03-01T19:47:50.431Z"
   },
   {
    "duration": 1030,
    "start_time": "2022-03-02T09:51:41.157Z"
   },
   {
    "duration": 3,
    "start_time": "2022-03-02T09:51:42.188Z"
   },
   {
    "duration": 27,
    "start_time": "2022-03-02T09:51:42.193Z"
   },
   {
    "duration": 30,
    "start_time": "2022-03-02T09:51:42.221Z"
   },
   {
    "duration": 10,
    "start_time": "2022-03-02T09:51:42.253Z"
   },
   {
    "duration": 13,
    "start_time": "2022-03-02T09:51:42.265Z"
   },
   {
    "duration": 4,
    "start_time": "2022-03-02T09:51:42.279Z"
   },
   {
    "duration": 5,
    "start_time": "2022-03-02T09:51:42.284Z"
   },
   {
    "duration": 56,
    "start_time": "2022-03-02T09:51:42.291Z"
   },
   {
    "duration": 6,
    "start_time": "2022-03-02T09:51:42.349Z"
   },
   {
    "duration": 10,
    "start_time": "2022-03-02T09:51:42.357Z"
   },
   {
    "duration": 14,
    "start_time": "2022-03-02T09:51:42.368Z"
   },
   {
    "duration": 7,
    "start_time": "2022-03-02T09:51:42.384Z"
   },
   {
    "duration": 7,
    "start_time": "2022-03-02T09:51:42.392Z"
   },
   {
    "duration": 11,
    "start_time": "2022-03-02T09:51:42.400Z"
   },
   {
    "duration": 33,
    "start_time": "2022-03-02T09:51:42.412Z"
   },
   {
    "duration": 7,
    "start_time": "2022-03-02T09:51:42.447Z"
   },
   {
    "duration": 7,
    "start_time": "2022-03-02T09:51:42.456Z"
   },
   {
    "duration": 6,
    "start_time": "2022-03-02T09:51:42.464Z"
   },
   {
    "duration": 7,
    "start_time": "2022-03-02T09:51:42.471Z"
   },
   {
    "duration": 5,
    "start_time": "2022-03-02T09:51:42.479Z"
   },
   {
    "duration": 6,
    "start_time": "2022-03-02T09:51:42.486Z"
   },
   {
    "duration": 12,
    "start_time": "2022-03-02T09:51:42.493Z"
   },
   {
    "duration": 40,
    "start_time": "2022-03-02T09:51:42.507Z"
   },
   {
    "duration": 4,
    "start_time": "2022-03-02T09:51:42.548Z"
   },
   {
    "duration": 5,
    "start_time": "2022-03-02T09:51:42.553Z"
   },
   {
    "duration": 143,
    "start_time": "2022-03-02T09:51:42.561Z"
   },
   {
    "duration": 81,
    "start_time": "2022-03-02T09:51:42.706Z"
   },
   {
    "duration": 7,
    "start_time": "2022-03-02T09:51:42.788Z"
   },
   {
    "duration": 13,
    "start_time": "2022-03-02T09:51:42.797Z"
   },
   {
    "duration": 4753,
    "start_time": "2022-03-02T09:51:42.812Z"
   },
   {
    "duration": 4807,
    "start_time": "2022-03-02T09:51:47.567Z"
   },
   {
    "duration": 599,
    "start_time": "2022-03-02T09:51:52.375Z"
   },
   {
    "duration": 4,
    "start_time": "2022-03-02T09:51:52.975Z"
   },
   {
    "duration": 18,
    "start_time": "2022-03-02T09:51:52.980Z"
   },
   {
    "duration": 14,
    "start_time": "2022-03-02T09:51:52.999Z"
   },
   {
    "duration": 138,
    "start_time": "2022-03-02T09:51:53.014Z"
   },
   {
    "duration": 10,
    "start_time": "2022-03-02T09:51:53.154Z"
   },
   {
    "duration": 209,
    "start_time": "2022-03-02T09:51:53.166Z"
   }
  ],
  "kernelspec": {
   "display_name": "Python 3",
   "language": "python",
   "name": "python3"
  },
  "language_info": {
   "codemirror_mode": {
    "name": "ipython",
    "version": 3
   },
   "file_extension": ".py",
   "mimetype": "text/x-python",
   "name": "python",
   "nbconvert_exporter": "python",
   "pygments_lexer": "ipython3",
   "version": "3.7.8"
  },
  "toc": {
   "base_numbering": 1,
   "nav_menu": {},
   "number_sections": true,
   "sideBar": true,
   "skip_h1_title": true,
   "title_cell": "Table of Contents",
   "title_sidebar": "Contents",
   "toc_cell": false,
   "toc_position": {},
   "toc_section_display": true,
   "toc_window_display": false
  }
 },
 "nbformat": 4,
 "nbformat_minor": 2
}
